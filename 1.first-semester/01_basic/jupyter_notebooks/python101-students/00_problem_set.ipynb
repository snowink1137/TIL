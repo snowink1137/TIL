{
 "cells": [
  {
   "cell_type": "markdown",
   "metadata": {},
   "source": [
    "# Problem set"
   ]
  },
  {
   "cell_type": "markdown",
   "metadata": {},
   "source": [
    "### 1. 이상한 덧셈\n",
    "> 숫자로 구성된 리스트에서 양의 정수의 합을 구하는 함수, `positive_sum` 을 만들어 보아요\n",
    "\n",
    "예시)\n",
    "```python\n",
    "positive_sum([1, -10, 2]) # 3\n",
    "positive_sum([-1, -2, -3, -4]) # 0\n",
    "```"
   ]
  },
  {
   "cell_type": "code",
   "execution_count": 1,
   "metadata": {},
   "outputs": [
    {
     "name": "stdout",
     "output_type": "stream",
     "text": [
      "3\n",
      "0\n"
     ]
    }
   ],
   "source": [
    "def positive_sum(list):\n",
    "    result = 0;\n",
    "    for i in list:\n",
    "        if i > 0:\n",
    "            result += i\n",
    "    \n",
    "    \n",
    "    return result\n",
    "\n",
    "\n",
    "print(positive_sum([1, -10, 2]))\n",
    "print(positive_sum([-1, -2, -3, -4]))"
   ]
  },
  {
   "cell_type": "code",
   "execution_count": 59,
   "metadata": {},
   "outputs": [
    {
     "name": "stdout",
     "output_type": "stream",
     "text": [
      "3\n",
      "0\n"
     ]
    }
   ],
   "source": [
    "##  파이썬에서는 이렇게도 쓸 수 있다!\n",
    "\n",
    "def pos_sum(numbers):\n",
    "    return sum(x for x in numbers if x > 0)\n",
    "\n",
    "\n",
    "print(pos_sum([1, -10, 2]))\n",
    "print(pos_sum([-1, -2, -3, -4]))"
   ]
  },
  {
   "cell_type": "markdown",
   "metadata": {},
   "source": [
    "### 2. 문자열 탐색\n",
    "> 문자열 요소로만 이루어진 리스트를 넣었을 때, 문자열의 길이가 2 이상이고 주어진 문자열의 첫 번째와 마지막 문자가 같은 문자열의 수를 세는 함수 'start_end'를 작성하세요.\n",
    "\n",
    "예시)\n",
    "```python\n",
    "start_end(['level', 'asdwe', 's', 'abadsfa', 'qlq']) # 3\n",
    "```"
   ]
  },
  {
   "cell_type": "code",
   "execution_count": 3,
   "metadata": {},
   "outputs": [
    {
     "name": "stdout",
     "output_type": "stream",
     "text": [
      "3\n"
     ]
    }
   ],
   "source": [
    "def start_end(list):\n",
    "    count = 0\n",
    "    for i in list:\n",
    "        if (len(i) > 1) and (i[0] == i[-1]):\n",
    "            count += 1\n",
    "            \n",
    "            \n",
    "    return count\n",
    "\n",
    "\n",
    "print(start_end(['level', 'asdwe', 's', 'abadsfa', 'qlq']))\n",
    "            "
   ]
  },
  {
   "cell_type": "markdown",
   "metadata": {},
   "source": [
    "### 3. Collatz\n",
    "> Colatz 추측 : 어떤 숫자던지, 다음과 같은 작업을 반복하면 1로 만들 수 있다.\n",
    "1. n이 짝수라면 2로 나눈다.\n",
    "2. n이 홀수라면 3을 곱하고 1을 더한다.\n",
    "3. 결과로 나온 수에 1 / 2의 작업을 1이 될때까지 반복한다.\n",
    "\n",
    "> 예를 들어 n이 6이면, 6 => 3 => 10 => 5 => 16 => 8 => 4 => 2 => 1 이렇게 8번 만에 1이 나온다.몇 번안에 1이 되는 지를 `return`하는 함수 `collatz()` 를 완성하세요.\n",
    "\n",
    "> 단! 500번을 넘어가도 1이 되지 않는다면, -1을 `return` 하시오.\n",
    "\n",
    "예시)\n",
    "```python\n",
    "collatz(6) # 8\n",
    "collatz(16) # 4\n",
    "collatz(6263313) # -1\n",
    "```"
   ]
  },
  {
   "cell_type": "code",
   "execution_count": 64,
   "metadata": {},
   "outputs": [
    {
     "name": "stdout",
     "output_type": "stream",
     "text": [
      "8\n",
      "4\n",
      "-1\n",
      "-1\n"
     ]
    }
   ],
   "source": [
    "def collatz(n):\n",
    "    count = 0\n",
    "    while True:\n",
    "        if count > 500:\n",
    "            return -1\n",
    "        elif n == 1:\n",
    "            return count\n",
    "        elif n % 2 == 0:\n",
    "            n = n / 2\n",
    "            count += 1\n",
    "        elif n % 2 == 1:\n",
    "            n = n * 3 + 1\n",
    "            count += 1\n",
    "        \n",
    "        \n",
    "print(collatz(6))\n",
    "print(collatz(16))\n",
    "print(collatz(62633111315135111515611616161616161616165151111116516181351351316511313131651631313133))\n",
    "print(collatz(626331))"
   ]
  },
  {
   "cell_type": "markdown",
   "metadata": {},
   "source": [
    "### 4. 솔로 천국\n",
    "> 리스트가 주어질 때, 리스트의 요소 `e`는 `range(0, 10)`에 포함되는 자연수 이다. 리스트에서 연속적으로 나타나는 숫자는 하나만 남기고 전부 제거하여 `return`하는 함수 `lonely()`를 작성해 보세요. 이때! 제거된 남은 수들을 반환할 때는 리스트의 요소들이 순서를 유지해야 합니다!\n",
    "\n",
    "예시)\n",
    "```python\n",
    "lonely([1, 1, 3, 3, 0, 1, 1, 3, 0, 3]) # [1, 3, 0]\n",
    "lonely([4, 4, 3, 3, 3, 4]) # [4, 3]\n",
    "```"
   ]
  },
  {
   "cell_type": "code",
   "execution_count": 3,
   "metadata": {},
   "outputs": [
    {
     "name": "stdout",
     "output_type": "stream",
     "text": [
      "[1, 3, 0]\n",
      "[4, 3]\n"
     ]
    }
   ],
   "source": [
    "def lonely(list):\n",
    "    length = len(list)\n",
    "    death_note = set()\n",
    "    result = []\n",
    "    for i in range(length-1):\n",
    "        if list[i] in death_note:\n",
    "            continue\n",
    "        elif list[i] == list[i+1]:\n",
    "            death_note.add(list[i])\n",
    "            result.append(list[i])\n",
    "            if i == length-2:\n",
    "                result.append(list[i])\n",
    "        elif list[i] != list[i+1]:\n",
    "            death_note.add(list[i])\n",
    "            result.append(list[i])\n",
    "            if (i == length-2) and (list[i+1] not in death_note):\n",
    "                death_note.add(list[i+1])\n",
    "                result.append(list[i+1])\n",
    "    \n",
    "    \n",
    "    return result\n",
    "\n",
    "\n",
    "print(lonely([1, 1, 3, 3, 0, 1, 1, 3, 0, 3]))\n",
    "print(lonely([4, 4, 3, 3, 3, 4]))"
   ]
  },
  {
   "cell_type": "code",
   "execution_count": 6,
   "metadata": {},
   "outputs": [
    {
     "name": "stdout",
     "output_type": "stream",
     "text": [
      "[1, 3, 0]\n",
      "[4, 3]\n"
     ]
    }
   ],
   "source": [
    "def lonely_teacher(numbers):\n",
    "    result = []\n",
    "    for number in numbers:\n",
    "        if number not in result:\n",
    "            result.append(number)\n",
    "    return result\n",
    "\n",
    "\n",
    "print(lonely_teacher([1, 1, 3, 3, 0, 1, 1, 3, 0, 3]))\n",
    "print(lonely_teacher([4, 4, 3, 3, 3, 4]))"
   ]
  },
  {
   "cell_type": "markdown",
   "metadata": {},
   "source": [
    "### 5. RGB 삼각형\n",
    "| BG | RG | BR | RR | GG | BB |\n",
    "|----|----|----|----|----|----|\n",
    "| R  | B  | G  | R  | G  | B  |\n",
    "\n",
    "> 입력으로 `'R', 'G', 'B'` 가 섞여있는 문자열이 들어온다. 문자열은 다음과 같이 합쳐진다. 해당 문자열을 처리하여 마지막 색깔만 `return`하는 `triangle()` 을 작성하세요.\n",
    "```\n",
    "R R G B R G B B\n",
    " R B R G B R B\n",
    "  G G B R G G\n",
    "   G R G B G\n",
    "    B B R R\n",
    "     B G R\n",
    "      R B\n",
    "       G\n",
    "```\n",
    "예시)\n",
    "```python\n",
    "triangle('RRGBRGBB') # G\n",
    "triangle('GB') # R\n",
    "triangle('B') # B\n",
    "triangle('RGBG') # B\n",
    "```"
   ]
  },
  {
   "cell_type": "code",
   "execution_count": 55,
   "metadata": {},
   "outputs": [],
   "source": [
    "def triangle_1st(string):\n",
    "    \n",
    "    result = ''\n",
    "    length = len(string)\n",
    "    \n",
    "    if length == 1:\n",
    "        return string\n",
    "    else:\n",
    "        for i in range(length-1):\n",
    "            if string[i] == 'B' and string[i+1] == 'G':\n",
    "                result += 'R'\n",
    "            elif string[i] == 'G' and string[i+1] == 'B':\n",
    "                result += 'R'\n",
    "            elif string[i] == 'R' and string[i+1] == 'G':\n",
    "                result += 'B'\n",
    "            elif string[i] == 'G' and string[i+1] == 'R':\n",
    "                result += 'B'\n",
    "            elif string[i] == 'B' and string[i+1] == 'R':\n",
    "                result += 'G'\n",
    "            elif string[i] == 'R' and string[i+1] == 'B':\n",
    "                result += 'G'\n",
    "            elif string[i] == 'R' and string[i+1] == 'R':\n",
    "                result += 'R'\n",
    "            elif string[i] == 'G' and string[i+1] == 'G':\n",
    "                result += 'G'\n",
    "            elif string[i] == 'B' and string[i+1] == 'B':\n",
    "                result += 'B'\n",
    "            \n",
    "            \n",
    "    return triangle(result)"
   ]
  },
  {
   "cell_type": "code",
   "execution_count": 61,
   "metadata": {},
   "outputs": [],
   "source": [
    "def triangle(string):\n",
    "    \n",
    "    result = ''\n",
    "    length = len(string)\n",
    "    \n",
    "    if length == 1:\n",
    "        return string\n",
    "    else:\n",
    "        for i in range(length-1):\n",
    "            word = string[i] + string[i+1]\n",
    "            if word in ('BG', 'GB'):\n",
    "                result += 'R'\n",
    "            elif word in ('RG', 'GR'):\n",
    "                result += 'B'\n",
    "            elif word in ('BR', 'RB'):\n",
    "                result += 'G'\n",
    "            elif word in ('RR'):\n",
    "                result += 'R'\n",
    "            elif word in ('GG'):\n",
    "                result += 'G'\n",
    "            elif word in ('BB'):\n",
    "                result += 'B'\n",
    "            \n",
    "            \n",
    "    return triangle(result)"
   ]
  },
  {
   "cell_type": "code",
   "execution_count": 62,
   "metadata": {},
   "outputs": [
    {
     "name": "stdout",
     "output_type": "stream",
     "text": [
      "G\n",
      "R\n",
      "B\n",
      "B\n"
     ]
    }
   ],
   "source": [
    "print(triangle('RRGBRGBB'))\n",
    "print(triangle('GB'))\n",
    "print(triangle('B'))\n",
    "print(triangle('RGBG'))"
   ]
  },
  {
   "cell_type": "markdown",
   "metadata": {},
   "source": [
    "### 6. (??) 홀수 개를 찾아라\n",
    "> 입력으로 list가 한개 들어옵니다. 이 list에는 1개의 숫자만 홀수 개 들어있습니다.\n",
    "이 1개의 홀수개인 숫자를 `return`하는 `find_odd()`를 작성하세요\n",
    "\n",
    "예시)\n",
    "```python\n",
    "find_odd([1, 1, 2, 2, 3, 3, 3]) # 3\n",
    "find_odd([2, 1, 2]) # 1\n",
    "find_odd([1, 2, 2, 3, 2, 2, 1]) # 3\n",
    "find_odd([1, 2, 1]) # 2\n",
    "```"
   ]
  },
  {
   "cell_type": "code",
   "execution_count": 1,
   "metadata": {},
   "outputs": [
    {
     "name": "stdout",
     "output_type": "stream",
     "text": [
      "3\n",
      "1\n",
      "3\n",
      "2\n"
     ]
    }
   ],
   "source": [
    "def find_odd(list_in):\n",
    "    list_set = set(list_in)\n",
    "    for i in list_set:\n",
    "        if len([index for index, value in enumerate(list_in) if value == i]) % 2 == 1:\n",
    "            return i\n",
    "        \n",
    "        \n",
    "print(find_odd([1, 1, 2, 2, 3, 3, 3]))\n",
    "print(find_odd([2, 1, 2]))\n",
    "print(find_odd([1, 2, 2, 3, 2, 2, 1]))\n",
    "print(find_odd([1, 2, 1]))"
   ]
  },
  {
   "cell_type": "code",
   "execution_count": 2,
   "metadata": {},
   "outputs": [
    {
     "name": "stdout",
     "output_type": "stream",
     "text": [
      "3\n",
      "1\n",
      "3\n",
      "2\n"
     ]
    }
   ],
   "source": [
    "def find_odd_teacher(list_in):\n",
    "    for uniq in list(set(list_in)):\n",
    "        if list_in.count(uniq) % 2:\n",
    "            return uniq\n",
    "        \n",
    "        \n",
    "print(find_odd_teacher([1, 1, 2, 2, 3, 3, 3]))\n",
    "print(find_odd_teacher([2, 1, 2]))\n",
    "print(find_odd_teacher([1, 2, 2, 3, 2, 2, 1]))\n",
    "print(find_odd_teacher([1, 2, 1]))"
   ]
  },
  {
   "cell_type": "code",
   "execution_count": 2,
   "metadata": {},
   "outputs": [
    {
     "name": "stdout",
     "output_type": "stream",
     "text": [
      "3\n",
      "1\n",
      "3\n",
      "2\n"
     ]
    }
   ],
   "source": [
    "## xor 비트 연산 이용해서 문제해결하는 방법.\n",
    "## xor 비트 연산 특징: 같은 수끼리 연산하면 0이 나온다!\n",
    "## 따라서, 모든 요소들을 다 더하면? 짝수 번 더한 애들은 다 0으로 사라질 거고, 홀수 번 더한 애가 살아남는다.\n",
    "## 홀수 번 더한 것은 한 종류만 있다고 했으므로 총합이 원하는 답이 된다.\n",
    "from operator import xor\n",
    "import functools\n",
    "\n",
    "def find_odd_teacher2(list_in):\n",
    "    return functools.reduce(xor, list_in)\n",
    "\n",
    "\n",
    "print(find_odd_teacher2([1, 1, 2, 2, 3, 3, 3]))\n",
    "print(find_odd_teacher2([2, 1, 2]))\n",
    "print(find_odd_teacher2([1, 2, 2, 3, 2, 2, 1]))\n",
    "print(find_odd_teacher2([1, 2, 1]))"
   ]
  }
 ],
 "metadata": {
  "kernelspec": {
   "display_name": "Python 3",
   "language": "python",
   "name": "python3"
  },
  "language_info": {
   "codemirror_mode": {
    "name": "ipython",
    "version": 3
   },
   "file_extension": ".py",
   "mimetype": "text/x-python",
   "name": "python",
   "nbconvert_exporter": "python",
   "pygments_lexer": "ipython3",
   "version": "3.6.7"
  }
 },
 "nbformat": 4,
 "nbformat_minor": 2
}
