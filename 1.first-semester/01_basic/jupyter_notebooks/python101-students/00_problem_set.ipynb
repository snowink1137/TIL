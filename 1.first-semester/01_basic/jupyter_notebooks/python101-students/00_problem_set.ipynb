{
 "cells": [
  {
   "cell_type": "markdown",
   "metadata": {},
   "source": [
    "# Problem set"
   ]
  },
  {
   "cell_type": "markdown",
   "metadata": {},
   "source": [
    "### 1. 이상한 덧셈\n",
    "> 숫자로 구성된 리스트에서 양의 정수의 합을 구하는 함수, `positive_sum` 을 만들어 보아요\n",
    "\n",
    "예시)\n",
    "```python\n",
    "positive_sum([1, -10, 2]) # 3\n",
    "positive_sum([-1, -2, -3, -4]) # 0\n",
    "```"
   ]
  },
  {
   "cell_type": "code",
   "execution_count": 1,
   "metadata": {},
   "outputs": [
    {
     "name": "stdout",
     "output_type": "stream",
     "text": [
      "3\n",
      "0\n"
     ]
    }
   ],
   "source": [
    "def positive_sum(list):\n",
    "    result = 0;\n",
    "    for i in list:\n",
    "        if i > 0:\n",
    "            result += i\n",
    "    \n",
    "    \n",
    "    return result\n",
    "\n",
    "\n",
    "print(positive_sum([1, -10, 2]))\n",
    "print(positive_sum([-1, -2, -3, -4]))"
   ]
  },
  {
   "cell_type": "code",
   "execution_count": 59,
   "metadata": {},
   "outputs": [
    {
     "name": "stdout",
     "output_type": "stream",
     "text": [
      "3\n",
      "0\n"
     ]
    }
   ],
   "source": [
    "##  파이썬에서는 이렇게도 쓸 수 있다!\n",
    "\n",
    "def pos_sum(numbers):\n",
    "    return sum(x for x in numbers if x > 0)\n",
    "\n",
    "\n",
    "print(pos_sum([1, -10, 2]))\n",
    "print(pos_sum([-1, -2, -3, -4]))"
   ]
  },
  {
   "cell_type": "markdown",
   "metadata": {},
   "source": [
    "### 2. 문자열 탐색\n",
    "> 문자열 요소로만 이루어진 리스트를 넣었을 때, 문자열의 길이가 2 이상이고 주어진 문자열의 첫 번째와 마지막 문자가 같은 문자열의 수를 세는 함수 'start_end'를 작성하세요.\n",
    "\n",
    "예시)\n",
    "```python\n",
    "start_end(['level', 'asdwe', 's', 'abadsfa', 'qlq']) # 3\n",
    "```"
   ]
  },
  {
   "cell_type": "code",
   "execution_count": 3,
   "metadata": {},
   "outputs": [
    {
     "name": "stdout",
     "output_type": "stream",
     "text": [
      "3\n"
     ]
    }
   ],
   "source": [
    "def start_end(list):\n",
    "    count = 0\n",
    "    for i in list:\n",
    "        if (len(i) > 1) and (i[0] == i[-1]):\n",
    "            count += 1\n",
    "            \n",
    "            \n",
    "    return count\n",
    "\n",
    "\n",
    "print(start_end(['level', 'asdwe', 's', 'abadsfa', 'qlq']))\n",
    "            "
   ]
  },
  {
   "cell_type": "markdown",
   "metadata": {},
   "source": [
    "### 3. Collatz\n",
    "> Colatz 추측 : 어떤 숫자던지, 다음과 같은 작업을 반복하면 1로 만들 수 있다.\n",
    "1. n이 짝수라면 2로 나눈다.\n",
    "2. n이 홀수라면 3을 곱하고 1을 더한다.\n",
    "3. 결과로 나온 수에 1 / 2의 작업을 1이 될때까지 반복한다.\n",
    "\n",
    "> 예를 들어 n이 6이면, 6 => 3 => 10 => 5 => 16 => 8 => 4 => 2 => 1 이렇게 8번 만에 1이 나온다.몇 번안에 1이 되는 지를 `return`하는 함수 `collatz()` 를 완성하세요.\n",
    "\n",
    "> 단! 500번을 넘어가도 1이 되지 않는다면, -1을 `return` 하시오.\n",
    "\n",
    "예시)\n",
    "```python\n",
    "collatz(6) # 8\n",
    "collatz(16) # 4\n",
    "collatz(6263313) # -1\n",
    "```"
   ]
  },
  {
   "cell_type": "code",
   "execution_count": 64,
   "metadata": {},
   "outputs": [
    {
     "name": "stdout",
     "output_type": "stream",
     "text": [
      "8\n",
      "4\n",
      "-1\n",
      "-1\n"
     ]
    }
   ],
   "source": [
    "def collatz(n):\n",
    "    count = 0\n",
    "    while True:\n",
    "        if count > 500:\n",
    "            return -1\n",
    "        elif n == 1:\n",
    "            return count\n",
    "        elif n % 2 == 0:\n",
    "            n = n / 2\n",
    "            count += 1\n",
    "        elif n % 2 == 1:\n",
    "            n = n * 3 + 1\n",
    "            count += 1\n",
    "        \n",
    "        \n",
    "print(collatz(6))\n",
    "print(collatz(16))\n",
    "print(collatz(62633111315135111515611616161616161616165151111116516181351351316511313131651631313133))\n",
    "print(collatz(626331))"
   ]
  },
  {
   "cell_type": "markdown",
   "metadata": {},
   "source": [
    "### 4. 솔로 천국\n",
    "> 리스트가 주어질 때, 리스트의 요소 `e`는 `range(0, 10)`에 포함되는 자연수 이다. 리스트에서 연속적으로 나타나는 숫자는 하나만 남기고 전부 제거하여 `return`하는 함수 `lonely()`를 작성해 보세요. 이때! 제거된 남은 수들을 반환할 때는 리스트의 요소들이 순서를 유지해야 합니다!\n",
    "\n",
    "예시)\n",
    "```python\n",
    "lonely([1, 1, 3, 3, 0, 1, 1, 3, 0, 3]) # [1, 3, 0]\n",
    "lonely([4, 4, 3, 3, 3, 4]) # [4, 3]\n",
    "```"
   ]
  },
  {
   "cell_type": "code",
   "execution_count": 3,
   "metadata": {},
   "outputs": [
    {
     "name": "stdout",
     "output_type": "stream",
     "text": [
      "[1, 3, 0]\n",
      "[4, 3]\n"
     ]
    }
   ],
   "source": [
    "def lonely(list):\n",
    "    length = len(list)\n",
    "    death_note = set()\n",
    "    result = []\n",
    "    for i in range(length-1):\n",
    "        if list[i] in death_note:\n",
    "            continue\n",
    "        elif list[i] == list[i+1]:\n",
    "            death_note.add(list[i])\n",
    "            result.append(list[i])\n",
    "            if i == length-2:\n",
    "                result.append(list[i])\n",
    "        elif list[i] != list[i+1]:\n",
    "            death_note.add(list[i])\n",
    "            result.append(list[i])\n",
    "            if (i == length-2) and (list[i+1] not in death_note):\n",
    "                death_note.add(list[i+1])\n",
    "                result.append(list[i+1])\n",
    "    \n",
    "    \n",
    "    return result\n",
    "\n",
    "\n",
    "print(lonely([1, 1, 3, 3, 0, 1, 1, 3, 0, 3]))\n",
    "print(lonely([4, 4, 3, 3, 3, 4]))"
   ]
  },
  {
   "cell_type": "code",
   "execution_count": 6,
   "metadata": {},
   "outputs": [
    {
     "name": "stdout",
     "output_type": "stream",
     "text": [
      "[1, 3, 0]\n",
      "[4, 3]\n"
     ]
    }
   ],
   "source": [
    "def lonely_teacher(numbers):\n",
    "    result = []\n",
    "    for number in numbers:\n",
    "        if number not in result:\n",
    "            result.append(number)\n",
    "    return result\n",
    "\n",
    "\n",
    "print(lonely_teacher([1, 1, 3, 3, 0, 1, 1, 3, 0, 3]))\n",
    "print(lonely_teacher([4, 4, 3, 3, 3, 4]))"
   ]
  },
  {
   "cell_type": "markdown",
   "metadata": {},
   "source": [
    "### 5. RGB 삼각형\n",
    "| BG | RG | BR | RR | GG | BB |\n",
    "|----|----|----|----|----|----|\n",
    "| R  | B  | G  | R  | G  | B  |\n",
    "\n",
    "> 입력으로 `'R', 'G', 'B'` 가 섞여있는 문자열이 들어온다. 문자열은 다음과 같이 합쳐진다. 해당 문자열을 처리하여 마지막 색깔만 `return`하는 `triangle()` 을 작성하세요.\n",
    "```\n",
    "R R G B R G B B\n",
    " R B R G B R B\n",
    "  G G B R G G\n",
    "   G R G B G\n",
    "    B B R R\n",
    "     B G R\n",
    "      R B\n",
    "       G\n",
    "```\n",
    "예시)\n",
    "```python\n",
    "triangle('RRGBRGBB') # G\n",
    "triangle('GB') # R\n",
    "triangle('B') # B\n",
    "triangle('RGBG') # B\n",
    "```"
   ]
  },
  {
   "cell_type": "code",
   "execution_count": 55,
   "metadata": {},
   "outputs": [],
   "source": [
    "def triangle_1st(string):\n",
    "    \n",
    "    result = ''\n",
    "    length = len(string)\n",
    "    \n",
    "    if length == 1:\n",
    "        return string\n",
    "    else:\n",
    "        for i in range(length-1):\n",
    "            if string[i] == 'B' and string[i+1] == 'G':\n",
    "                result += 'R'\n",
    "            elif string[i] == 'G' and string[i+1] == 'B':\n",
    "                result += 'R'\n",
    "            elif string[i] == 'R' and string[i+1] == 'G':\n",
    "                result += 'B'\n",
    "            elif string[i] == 'G' and string[i+1] == 'R':\n",
    "                result += 'B'\n",
    "            elif string[i] == 'B' and string[i+1] == 'R':\n",
    "                result += 'G'\n",
    "            elif string[i] == 'R' and string[i+1] == 'B':\n",
    "                result += 'G'\n",
    "            elif string[i] == 'R' and string[i+1] == 'R':\n",
    "                result += 'R'\n",
    "            elif string[i] == 'G' and string[i+1] == 'G':\n",
    "                result += 'G'\n",
    "            elif string[i] == 'B' and string[i+1] == 'B':\n",
    "                result += 'B'\n",
    "            \n",
    "            \n",
    "    return triangle(result)"
   ]
  },
  {
   "cell_type": "code",
   "execution_count": 61,
   "metadata": {},
   "outputs": [],
   "source": [
    "def triangle(string):\n",
    "    \n",
    "    result = ''\n",
    "    length = len(string)\n",
    "    \n",
    "    if length == 1:\n",
    "        return string\n",
    "    else:\n",
    "        for i in range(length-1):\n",
    "            word = string[i] + string[i+1]\n",
    "            if word in ('BG', 'GB'):\n",
    "                result += 'R'\n",
    "            elif word in ('RG', 'GR'):\n",
    "                result += 'B'\n",
    "            elif word in ('BR', 'RB'):\n",
    "                result += 'G'\n",
    "            elif word in ('RR'):\n",
    "                result += 'R'\n",
    "            elif word in ('GG'):\n",
    "                result += 'G'\n",
    "            elif word in ('BB'):\n",
    "                result += 'B'\n",
    "            \n",
    "            \n",
    "    return triangle(result)"
   ]
  },
  {
   "cell_type": "code",
   "execution_count": 62,
   "metadata": {},
   "outputs": [
    {
     "name": "stdout",
     "output_type": "stream",
     "text": [
      "G\n",
      "R\n",
      "B\n",
      "B\n"
     ]
    }
   ],
   "source": [
    "print(triangle('RRGBRGBB'))\n",
    "print(triangle('GB'))\n",
    "print(triangle('B'))\n",
    "print(triangle('RGBG'))"
   ]
  },
  {
   "cell_type": "markdown",
   "metadata": {},
   "source": [
    "### 6. (??) 홀수 개를 찾아라\n",
    "> 입력으로 list가 한개 들어옵니다. 이 list에는 1개의 숫자만 홀수 개 들어있습니다.\n",
    "이 1개의 홀수개인 숫자를 `return`하는 `find_odd()`를 작성하세요\n",
    "\n",
    "예시)\n",
    "```python\n",
    "find_odd([1, 1, 2, 2, 3, 3, 3]) # 3\n",
    "find_odd([2, 1, 2]) # 1\n",
    "find_odd([1, 2, 2, 3, 2, 2, 1]) # 3\n",
    "find_odd([1, 2, 1]) # 2\n",
    "```"
   ]
  },
  {
   "cell_type": "code",
   "execution_count": 1,
   "metadata": {},
   "outputs": [
    {
     "name": "stdout",
     "output_type": "stream",
     "text": [
      "3\n",
      "1\n",
      "3\n",
      "2\n"
     ]
    }
   ],
   "source": [
    "def find_odd(list_in):\n",
    "    list_set = set(list_in)\n",
    "    for i in list_set:\n",
    "        if len([index for index, value in enumerate(list_in) if value == i]) % 2 == 1:\n",
    "            return i\n",
    "        \n",
    "        \n",
    "print(find_odd([1, 1, 2, 2, 3, 3, 3]))\n",
    "print(find_odd([2, 1, 2]))\n",
    "print(find_odd([1, 2, 2, 3, 2, 2, 1]))\n",
    "print(find_odd([1, 2, 1]))"
   ]
  },
  {
   "cell_type": "code",
   "execution_count": 2,
   "metadata": {},
   "outputs": [
    {
     "name": "stdout",
     "output_type": "stream",
     "text": [
      "3\n",
      "1\n",
      "3\n",
      "2\n"
     ]
    }
   ],
   "source": [
    "def find_odd_teacher(list_in):\n",
    "    for uniq in list(set(list_in)):\n",
    "        if list_in.count(uniq) % 2:\n",
    "            return uniq\n",
    "        \n",
    "        \n",
    "print(find_odd_teacher([1, 1, 2, 2, 3, 3, 3]))\n",
    "print(find_odd_teacher([2, 1, 2]))\n",
    "print(find_odd_teacher([1, 2, 2, 3, 2, 2, 1]))\n",
    "print(find_odd_teacher([1, 2, 1]))"
   ]
  },
  {
   "cell_type": "code",
   "execution_count": 2,
   "metadata": {},
   "outputs": [
    {
     "name": "stdout",
     "output_type": "stream",
     "text": [
      "3\n",
      "1\n",
      "3\n",
      "2\n"
     ]
    }
   ],
   "source": [
    "## xor 비트 연산 이용해서 문제해결하는 방법.\n",
    "## xor 비트 연산 특징: 같은 수끼리 연산하면 0이 나온다!\n",
    "## 따라서, 모든 요소들을 다 더하면? 짝수 번 더한 애들은 다 0으로 사라질 거고, 홀수 번 더한 애가 살아남는다.\n",
    "## 홀수 번 더한 것은 한 종류만 있다고 했으므로 총합이 원하는 답이 된다.\n",
    "from operator import xor\n",
    "import functools\n",
    "\n",
    "def find_odd_teacher2(list_in):\n",
    "    return functools.reduce(xor, list_in)\n",
    "\n",
    "\n",
    "print(find_odd_teacher2([1, 1, 2, 2, 3, 3, 3]))\n",
    "print(find_odd_teacher2([2, 1, 2]))\n",
    "print(find_odd_teacher2([1, 2, 2, 3, 2, 2, 1]))\n",
    "print(find_odd_teacher2([1, 2, 1]))"
   ]
  },
  {
   "cell_type": "markdown",
   "metadata": {},
   "source": [
    "---"
   ]
  },
  {
   "cell_type": "markdown",
   "metadata": {},
   "source": [
    "**190109**"
   ]
  },
  {
   "cell_type": "markdown",
   "metadata": {},
   "source": [
    "### 1. UP & DOWN\n",
    "> 우리가 `range(1, 101)` 입력한다. 컴퓨터가 절반에 위치한 숫자를 물어보고, 생각한 수보다 크면 1, 작으면 -1, 맞으면 0을 입력한다. 이때 몇 번만에 컴퓨터가 맞췄는지 출력하고 프로그램을 끝낸다.\n",
    "\n",
    "예시)\n",
    "```sh\n",
    "숫자를 생각하세요..\n",
    "50\n",
    "> -1\n",
    "25\n",
    "> -1\n",
    "13\n",
    "> -1\n",
    "7\n",
    "> 1\n",
    "10\n",
    "> 1\n",
    "12\n",
    "> 0\n",
    "6 번만에 맞췄습니다!\n",
    "```\n",
    "\n",
    "```python\n",
    "def guess_up_down():\n",
    "    count = 0\n",
    "    print('숫자를 생각하세요...')\n",
    "    n = 100 // 2\n",
    "    print(n)\n",
    "    user_feedback = int(input('작으면 -1, 맞으면 0, 크면 1 을 입력해주세요'))\n",
    "    ...\n",
    "    print(f'{count} 번 만에 맞춤!')\n",
    "    \n",
    "\n",
    "guese_up_down()    \n",
    "```\n",
    "    "
   ]
  },
  {
   "cell_type": "code",
   "execution_count": 10,
   "metadata": {},
   "outputs": [
    {
     "name": "stdout",
     "output_type": "stream",
     "text": [
      "1~100 까지의 숫자 중 하나를 생각하세요... 생각을 다 하셨으면 엔터키를 눌러주세요!\n",
      "\n",
      "계산 중입니다...\n",
      "생각하신 숫자가 50 인가요? 생각하신 숫자가 이 숫자보다 작으면 -1, 맞으면 0, 크면 1을 입력해주세요-1\n",
      "계산 중입니다...\n",
      "생각하신 숫자가 25 인가요? 생각하신 숫자가 이 숫자보다 작으면 -1, 맞으면 0, 크면 1을 입력해주세요-1\n",
      "계산 중입니다...\n",
      "생각하신 숫자가 13 인가요? 생각하신 숫자가 이 숫자보다 작으면 -1, 맞으면 0, 크면 1을 입력해주세요-1\n",
      "계산 중입니다...\n",
      "생각하신 숫자가 7 인가요? 생각하신 숫자가 이 숫자보다 작으면 -1, 맞으면 0, 크면 1을 입력해주세요-1\n",
      "계산 중입니다...\n",
      "생각하신 숫자가 4 인가요? 생각하신 숫자가 이 숫자보다 작으면 -1, 맞으면 0, 크면 1을 입력해주세요-1\n",
      "계산 중입니다...\n",
      "생각하신 숫자가 2 인가요? 생각하신 숫자가 이 숫자보다 작으면 -1, 맞으면 0, 크면 1을 입력해주세요-1\n",
      "계산 중입니다...\n",
      "생각하신 숫자가 1 인가요? 생각하신 숫자가 이 숫자보다 작으면 -1, 맞으면 0, 크면 1을 입력해주세요-1\n",
      "귀하가 생각하신 숫자는... 1입니다!\n",
      "7 번 만에 맞춤!\n"
     ]
    }
   ],
   "source": [
    "from time import sleep\n",
    "\n",
    "def guess_up_down():\n",
    "    count = 0\n",
    "    print('1~100 까지의 숫자 중 하나를 생각하세요... 생각을 다 하셨으면 엔터키를 눌러주세요!')\n",
    "    input()\n",
    "    \n",
    "    low = 1\n",
    "    high = 100\n",
    "    n = (high + low) // 2\n",
    "    count += 1\n",
    "    \n",
    "    \n",
    "    while True:\n",
    "        print('계산 중입니다...')\n",
    "        sleep(0.5)\n",
    "\n",
    "        user_feedback = int(input(f'생각하신 숫자가 {n} 인가요? 생각하신 숫자가 이 숫자보다 작으면 -1, 맞으면 0, 크면 1을 입력해주세요'))\n",
    "\n",
    "        if count == 7:\n",
    "            if user_feedback == 0:\n",
    "                print(f'{count} 번 만에 맞춤!')\n",
    "                break\n",
    "            \n",
    "            elif user_feedback == -1:\n",
    "                n = low\n",
    "                print(f'귀하가 생각하신 숫자는... {n}입니다!')\n",
    "                print(f'{count} 번 만에 맞춤!')\n",
    "                break\n",
    "                \n",
    "            elif user_feedback == 1:\n",
    "                n = high\n",
    "                print(f'귀하가 생각하신 숫자는... {n}입니다!')\n",
    "                print(f'{count} 번 만에 맞춤!')\n",
    "                break\n",
    "        \n",
    "        else:\n",
    "            if user_feedback == 0:\n",
    "                print(f'{count} 번 만에 맞춤!')\n",
    "                break\n",
    "\n",
    "            elif user_feedback == -1:\n",
    "                high = n\n",
    "                n = (high + low) // 2\n",
    "                count += 1\n",
    "\n",
    "            elif user_feedback == 1:\n",
    "                low = n\n",
    "                n = (high + low) // 2\n",
    "                count += 1\n",
    "            \n",
    "\n",
    "guess_up_down()"
   ]
  },
  {
   "cell_type": "code",
   "execution_count": 4,
   "metadata": {},
   "outputs": [
    {
     "name": "stdout",
     "output_type": "stream",
     "text": [
      "숫자를 생각하세요..!\n",
      "50\n",
      "작으면 -1, 크면 1, 맞으면 0: 1\n",
      "75\n",
      "작으면 -1, 크면 1, 맞으면 0: 1\n",
      "88\n",
      "작으면 -1, 크면 1, 맞으면 0: 1\n",
      "94\n",
      "작으면 -1, 크면 1, 맞으면 0: 1\n",
      "97\n",
      "작으면 -1, 크면 1, 맞으면 0: 1\n",
      "99\n",
      "작으면 -1, 크면 1, 맞으면 0: 1\n",
      "100\n",
      "작으면 -1, 크면 1, 맞으면 0: 1\n",
      "100\n",
      "작으면 -1, 크면 1, 맞으면 0: 1\n",
      "100\n",
      "작으면 -1, 크면 1, 맞으면 0: 1\n",
      "100\n",
      "작으면 -1, 크면 1, 맞으면 0: 1\n",
      "100\n",
      "작으면 -1, 크면 1, 맞으면 0: 0\n"
     ]
    },
    {
     "data": {
      "text/plain": [
       "11"
      ]
     },
     "execution_count": 4,
     "metadata": {},
     "output_type": "execute_result"
    }
   ],
   "source": [
    "def guess_up_down_teacher(max_n):\n",
    "    count = 0\n",
    "    max_n, min_n = max_n + 1, 0\n",
    "    print('숫자를 생각하세요..!')\n",
    "    \n",
    "    while 1:\n",
    "        guess = (max_n + min_n) // 2\n",
    "        print(guess)\n",
    "        count += 1\n",
    "        feedback = int(input('작으면 -1, 크면 1, 맞으면 0: '))\n",
    "        \n",
    "        if feedback == -1:\n",
    "            max_n = guess\n",
    "        elif feedback == 1:\n",
    "            min_n = guess\n",
    "        else:\n",
    "            return count\n",
    "        \n",
    "        \n",
    "guess_up_down_teacher(100)"
   ]
  },
  {
   "cell_type": "markdown",
   "metadata": {},
   "source": [
    "### Hangman\n",
    "> 필요한 함수들!"
   ]
  },
  {
   "cell_type": "code",
   "execution_count": 3,
   "metadata": {},
   "outputs": [
    {
     "data": {
      "text/plain": [
       "False"
      ]
     },
     "execution_count": 3,
     "metadata": {},
     "output_type": "execute_result"
    }
   ],
   "source": [
    "def is_answer(answer, letters):\n",
    "    answer_set = set(answer)\n",
    "    for i in letters:\n",
    "        if i in answer_set:\n",
    "            answer_set.remove(i)\n",
    "            \n",
    "    else:\n",
    "        if len(answer_set) == 0:\n",
    "            return True\n",
    "        else:\n",
    "            return False\n",
    "        \n",
    "        \n",
    "is_answer('apple', ['a', 'p', 'l']) # False"
   ]
  },
  {
   "cell_type": "code",
   "execution_count": 4,
   "metadata": {},
   "outputs": [
    {
     "data": {
      "text/plain": [
       "'a__le'"
      ]
     },
     "execution_count": 4,
     "metadata": {},
     "output_type": "execute_result"
    }
   ],
   "source": [
    "def status(answer, letters):\n",
    "    for char in answer:\n",
    "        if char not in letters:\n",
    "            answer = answer.replace(char, '_')\n",
    "    \n",
    "    \n",
    "    return answer\n",
    "\n",
    "\n",
    "status('apple', ['a', 'l', 'e'])"
   ]
  },
  {
   "cell_type": "markdown",
   "metadata": {},
   "source": [
    "#### Hangman 로직만들기\n",
    "> 위의 코드를 활용하여 `hangman(answer)`를 만들자! 사용자가 답을 맞추거나, 시도가 8번을 넘어가면 종료!"
   ]
  },
  {
   "cell_type": "code",
   "execution_count": 12,
   "metadata": {},
   "outputs": [],
   "source": [
    "from IPython.display import clear_output\n",
    "from IPython.core.display import Image, display\n",
    "\n",
    "def hangman(answer):\n",
    "    # set answer & first question\n",
    "    answer = answer.lower()\n",
    "    print('Hangman 게임을 시작합니다..!')\n",
    "    print('아래 단어에서 빈칸에 맞는 알파벳을 맞춰보세요!')\n",
    "    print()\n",
    "    now = status(answer, list([]))\n",
    "    print('【', now, '】')\n",
    "    \n",
    "    \n",
    "    # start game\n",
    "    ## loop setting\n",
    "    trial_list = []\n",
    "    death = 0\n",
    "    remain_blank = len(answer)\n",
    "    while death < 8:\n",
    "        ## get user input & get status\n",
    "        trial = input('하나의 char를 입력해주세요! ').lower()\n",
    "        print()\n",
    "        trial_list.append(trial)\n",
    "        temp = status(answer, trial_list)\n",
    "        \n",
    "        \n",
    "        ## judge correct\n",
    "        if now.count('_') > temp.count('_'):\n",
    "            now = temp\n",
    "            \n",
    "            \n",
    "            ## test all clear\n",
    "            if temp.count('_') == 0:\n",
    "                clear_output()\n",
    "                print('축하합니다 다 맞추셨습니다!!')\n",
    "                print(f'답 : {now}')\n",
    "                display(Image('http://img.ruliweb.daum.net/data/news12/11m/22/on/ruliweb_slamdunk.jpg', width=500))\n",
    "                break\n",
    "                \n",
    "            else:\n",
    "                clear_output()\n",
    "                print('축하합니다. 맞추셨네요! 현재 상태를 알려드리겠습니다')\n",
    "                print('【', now, '】')\n",
    "                print()\n",
    "                print('계속하겠습니다!')\n",
    "                display(Image('http://blogfiles.naver.net/20150415_184/hakdiary_1429079215628sImDh_JPEG/%B1%E2%BB%DD_%C2%A9%B9%E6_%289%29.jpg', width=500))\n",
    "                \n",
    "            \n",
    "        else:\n",
    "            death += 1\n",
    "            clear_output()\n",
    "            print(f'틀렸습니다.. ㅜㅜ hangman이 죽어갑니다.. {8-death}번의 기회가 남았습니다!')\n",
    "            print('【', now, '】')\n",
    "            display(Image('https://pbs.twimg.com/profile_images/476169263305457665/I8QlqUVh.jpeg', width=500))\n",
    "            \n",
    "    \n",
    "    ## over opportunity\n",
    "    else:\n",
    "        clear_output()\n",
    "        print('게임이 끝났습니다..! 아쉽지만 다음에 도전해주세요')\n",
    "        print(f'답 : {answer}')\n",
    "        print()\n",
    "        print(f'나의 답 : {now}')\n",
    "        display(Image('http://www.urbanbrush.net/web/wp-content/uploads/edd/2018/01/web-20180113004759717634.png', width=500))\n",
    "    \n",
    "    \n",
    "\n",
    "       "
   ]
  },
  {
   "cell_type": "code",
   "execution_count": 13,
   "metadata": {},
   "outputs": [
    {
     "name": "stdout",
     "output_type": "stream",
     "text": [
      "축하합니다 다 맞추셨습니다!!\n",
      "답 : apple\n"
     ]
    },
    {
     "data": {
      "image/jpeg": "[encoded data removed]",
      "text/plain": [
       "<IPython.core.display.Image object>"
      ]
     },
     "metadata": {
      "image/jpeg": {
       "width": 500
      }
     },
     "output_type": "display_data"
    }
   ],
   "source": [
    "hangman('apple')"
   ]
  },
  {
   "cell_type": "code",
   "execution_count": null,
   "metadata": {},
   "outputs": [],
   "source": []
  }
 ],
 "metadata": {
  "kernelspec": {
   "display_name": "Python 3",
   "language": "python",
   "name": "python3"
  },
  "language_info": {
   "codemirror_mode": {
    "name": "ipython",
    "version": 3
   },
   "file_extension": ".py",
   "mimetype": "text/x-python",
   "name": "python",
   "nbconvert_exporter": "python",
   "pygments_lexer": "ipython3",
   "version": "3.7.0"
  }
 },
 "nbformat": 4,
 "nbformat_minor": 2
}
