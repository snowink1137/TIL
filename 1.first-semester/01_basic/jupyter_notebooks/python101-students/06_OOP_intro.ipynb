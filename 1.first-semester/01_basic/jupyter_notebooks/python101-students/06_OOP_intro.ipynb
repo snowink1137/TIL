{
 "cells": [
  {
   "cell_type": "markdown",
   "metadata": {},
   "source": [
    "# 시작하기전에\n",
    "\n",
    "<wikipedia - 객체지향 프로그래밍> \n",
    ">\n",
    "> 객체 지향 프로그래밍(영어: Object-Oriented Programming, OOP)은 컴퓨터 프 로그래밍의 패러다임의 하나이다. 객체 지향 프로그래밍은 컴퓨터 프로그램을 명령어의 목록으로 보는 시각에서 벗어나 여러 개의 독립된 단위, 즉 \"객체\"들의 모임으로 파악하고자 하는 것이다. 각각의 객체는 메시지를 주고받고, 데이터를 처리할 수 있다.\n",
    ">\n",
    "> 명령형 프로그래밍인 절차지향 프로그래밍에서 발전된 형태를 나타내며, 기본 구성요소는 다음과 같다.\n",
    "\n",
    "* 클래스(Class) - 같은 종류(또는 문제 해결을 위한)의 집단에 속하는 속성(attribute)과 행위(behavior)를 정의한 것으로 객체지향 프로그램의 기본적인 사용자 정의 데이터형(user define data type)이라고 할 수 있다. 클래스는 프로그래머가 아니지만 해결해야 할 문제가 속하는 영역에 종사하는 사람이라면 사용할 수 있고, 다른 클래스 또는 외부 요소와 독립적으로 디자인하여야 한다.\n",
    "\n",
    "\n",
    "* 인스턴스 - 클래스의 인스턴스(실제로 메모리상에 할당된 것)이다. 객체는 자신 고유의 속성(attribute)을 가지며 클래스에서 정의한 행위(behavior)를 수행할 수 있다. 객체의 행위는 클래스에 정의된 행위에 대한 정의를 공유함으로써 메모리를 경제적으로 사용한다.\n",
    "\n",
    "\n",
    "* 메서드(Method) - 클래스로부터 생성된 객체를 사용하는 방법으로서 객체에 명령을 내리는 것이라 할 수 있다. 메서드는 한 객체의 속성을 조작하는 데 사용된다."
   ]
  },
  {
   "cell_type": "code",
   "execution_count": null,
   "metadata": {},
   "outputs": [],
   "source": [
    "# 복소수를 하나 만들어보고, 타입을 출력해봅시다."
   ]
  },
  {
   "cell_type": "code",
   "execution_count": 1,
   "metadata": {},
   "outputs": [
    {
     "name": "stdout",
     "output_type": "stream",
     "text": [
      "<class 'complex'>\n"
     ]
    }
   ],
   "source": [
    "img_number = 3 + 4j\n",
    "print(type(img_number))"
   ]
  },
  {
   "cell_type": "code",
   "execution_count": 2,
   "metadata": {},
   "outputs": [
    {
     "name": "stdout",
     "output_type": "stream",
     "text": [
      "3.0\n",
      "4.0\n"
     ]
    }
   ],
   "source": [
    "# 허수부랑 실수부를 함께 출력해봅시다.\n",
    "print(img_number.real)\n",
    "print(img_number.imag)"
   ]
  },
  {
   "cell_type": "code",
   "execution_count": 5,
   "metadata": {},
   "outputs": [
    {
     "name": "stdout",
     "output_type": "stream",
     "text": [
      "[1, 2, 4, 5, 7]\n"
     ]
    }
   ],
   "source": [
    "# 리스트를 하나 만들고 정렬해봅시다.\n",
    "listss =[1,2,5,7,4]\n",
    "listss.sort()\n",
    "print(listss)"
   ]
  },
  {
   "cell_type": "code",
   "execution_count": 6,
   "metadata": {
    "scrolled": true
   },
   "outputs": [
    {
     "name": "stdout",
     "output_type": "stream",
     "text": [
      "['__add__', '__class__', '__contains__', '__delattr__', '__delitem__', '__dir__', '__doc__', '__eq__', '__format__', '__ge__', '__getattribute__', '__getitem__', '__gt__', '__hash__', '__iadd__', '__imul__', '__init__', '__init_subclass__', '__iter__', '__le__', '__len__', '__lt__', '__mul__', '__ne__', '__new__', '__reduce__', '__reduce_ex__', '__repr__', '__reversed__', '__rmul__', '__setattr__', '__setitem__', '__sizeof__', '__str__', '__subclasshook__', 'append', 'clear', 'copy', 'count', 'extend', 'index', 'insert', 'pop', 'remove', 'reverse', 'sort']\n"
     ]
    }
   ],
   "source": [
    "# 리스트 class의 instance들이 할 수 있는 것들을 알아봅시다.\n",
    "print(dir(list))"
   ]
  },
  {
   "cell_type": "markdown",
   "metadata": {},
   "source": [
    "## Turtle\n",
    "> 거북이 클래스로 OOP 배우기"
   ]
  },
  {
   "cell_type": "code",
   "execution_count": 8,
   "metadata": {},
   "outputs": [],
   "source": [
    "import turtle"
   ]
  },
  {
   "cell_type": "code",
   "execution_count": 3,
   "metadata": {},
   "outputs": [
    {
     "name": "stdout",
     "output_type": "stream",
     "text": [
      "황은석 님에게 제출 하였습니다.\n",
      "쓰레기통 님에게 제출 하였습니다.\n"
     ]
    }
   ],
   "source": [
    "class Form:\n",
    "    name = ''\n",
    "    age = 0\n",
    "    phone = ''\n",
    "    intro = ''\n",
    "    \n",
    "    def submit(self, teacher):\n",
    "        print(f'{teacher} 님에게 제출 하였습니다.')\n",
    "        \n",
    "        \n",
    "form_neo = Form()\n",
    "form_neo.name = 'jyy'\n",
    "form_neo.age = 10000\n",
    "form_neo.phone = '12312322'\n",
    "form_neo.intro = 'hphk'\n",
    "form_neo.submit('황은석')\n",
    "\n",
    "form_tak = Form()\n",
    "form_tak.submit('쓰레기통')"
   ]
  },
  {
   "cell_type": "markdown",
   "metadata": {},
   "source": [
    "## 실습 문제\n",
    "\n",
    "> 프로그래밍으로 나와 친구의 이름을 저장해보세요.\n",
    ">\n",
    "\n",
    "**각자의 명함과 지갑을 만들어봅시다.**\n",
    "\n",
    "* 내 생일, 전화번호, 이메일주소 정보를 담은 변수를 확인해봅시다.\n",
    "\n",
    "* 주머니(pocket)에는 돈(won)을 포함하여 현재 가지고 있는 것을 작성해보세요.\n",
    "\n",
    "* 나는 인사를 하면서 내 명함에 있는 정보 하나를 이야기합니다. `greeting` 함수를 만듭시다.\n",
    "\n",
    "* 나는 주머니에 원하는 것과 갯수를 지정하여 넣을 수 있습니다. \n",
    "\n",
    "  기존에 값이 있으면, 갯수를 추가하고 없으면 새로 만드는 `in_my_pocket` 함수를 만듭시다.\n",
    "  \n",
    "**친구의 정보와 지갑도 만들어봅시다.**"
   ]
  },
  {
   "cell_type": "code",
   "execution_count": 11,
   "metadata": {},
   "outputs": [
    {
     "name": "stdout",
     "output_type": "stream",
     "text": [
      "Hi, 내name은 장재영이야\n",
      "Hi, 내phone은 010121232이야\n",
      "Hi, 내email은 neo@hpk.sadf이야\n",
      "{'money': 1000, 'pencil': 2, 'candy': 1}\n",
      "{'money': 1000, 'pencil': 2, 'candy': 7, 'cake': 3, 'earphone': 1}\n"
     ]
    }
   ],
   "source": [
    "# 아래에 자유롭게 코드를 작성해보세요.\n",
    "my_info = {\n",
    "    'name': '장재영',\n",
    "    'phone': '010121232',\n",
    "    'email': 'neo@hpk.sadf'\n",
    "}\n",
    "\n",
    "\n",
    "my_pocket = {\n",
    "    'money': 1000,\n",
    "    'pencil': 2,\n",
    "    'candy': 1\n",
    "}\n",
    "\n",
    "def greeting(info):\n",
    "    for key, value in info.items():    \n",
    "        print(f'Hi, 내{key}은 {value}이야')\n",
    "              \n",
    "          \n",
    "          \n",
    "def in_my_pocket(pocket, stuff, count):\n",
    "    if pocket.get(stuff):\n",
    "        pocket[stuff] += count\n",
    "    else:\n",
    "        pocket[stuff] = count\n",
    "    \n",
    "    return pocket\n",
    "              \n",
    "              \n",
    "greeting(my_info)\n",
    "print(my_pocket)\n",
    "in_my_pocket(my_pocket, 'cake', 3)\n",
    "in_my_pocket(my_pocket, 'earphone', 1)\n",
    "in_my_pocket(my_pocket, 'candy', 6)\n",
    "print(my_pocket)"
   ]
  },
  {
   "cell_type": "code",
   "execution_count": null,
   "metadata": {},
   "outputs": [],
   "source": [
    "# in_my_pocket 함수를 통해 내 주머니에 내용을 추가해봅시다."
   ]
  },
  {
   "cell_type": "code",
   "execution_count": 13,
   "metadata": {},
   "outputs": [
    {
     "name": "stdout",
     "output_type": "stream",
     "text": [
      "{'이상주': {'github': 'leesangju92', 'birth': '920519', 'bloodtype': 'O'}, '권성령': {'github': 'ddorom', 'birth': '941021', 'bloodtype': 'AB'}, '장재영': {'github': 'snowink1137', 'birth': '900416', 'bloodtype': 'O'}}\n"
     ]
    }
   ],
   "source": [
    "classmate = {}\n",
    "def in_my_classmate(classmate, name, key, value):\n",
    "    if classmate.get(name):\n",
    "        classmate[name][key] = value\n",
    "    else:\n",
    "        classmate[name] = {}\n",
    "        classmate[name][key] = value\n",
    "        \n",
    "        \n",
    "in_my_classmate(classmate, '이상주', 'github', 'leesangju92')\n",
    "in_my_classmate(classmate, '이상주', 'birth', '920519')\n",
    "in_my_classmate(classmate, '이상주', 'bloodtype', 'O')\n",
    "in_my_classmate(classmate, '권성령', 'github', 'ddorom')\n",
    "in_my_classmate(classmate, '권성령', 'birth', '941021')\n",
    "in_my_classmate(classmate, '권성령', 'bloodtype', 'AB')\n",
    "in_my_classmate(classmate, '장재영', 'github', 'snowink1137')\n",
    "in_my_classmate(classmate, '장재영', 'birth', '900416')\n",
    "in_my_classmate(classmate, '장재영', 'bloodtype', 'O')\n",
    "print(classmate)"
   ]
  },
  {
   "cell_type": "code",
   "execution_count": null,
   "metadata": {},
   "outputs": [],
   "source": [
    "# greeting 함수를 통해 인사를 해봅시다.\n",
    "#=> 안녕, kim이야. 01012345678"
   ]
  },
  {
   "cell_type": "markdown",
   "metadata": {},
   "source": [
    "# 클래스 및 인스턴스"
   ]
  },
  {
   "cell_type": "markdown",
   "metadata": {},
   "source": [
    "## 클래스 객체\n",
    "\n",
    "```python\n",
    "class ClassName:\n",
    "    \n",
    "```\n",
    "\n",
    "* 선언과 동시에 클래스 객체가 생성됨.\n",
    "\n",
    "* 또한, 선언된 공간은 지역 스코프로 사용된다.\n",
    "\n",
    "* 정의된 어트리뷰트 중 변수는 멤버 변수로 불리운다.\n",
    "\n",
    "* 정의된 함수(`def`)는 메서드로 불리운다."
   ]
  },
  {
   "cell_type": "code",
   "execution_count": 35,
   "metadata": {},
   "outputs": [
    {
     "name": "stdout",
     "output_type": "stream",
     "text": [
      "이상주 leesangju92 O\n",
      "이상주는 도착하면 화장실를 합니다.\n",
      "권성령 ddorom AB\n",
      "권성령는 도착하면 컴터켜기를 합니다.\n",
      "장재영 snowink1137 O\n",
      "장재영는 도착하면 앉기를 합니다.\n"
     ]
    }
   ],
   "source": [
    "# Class를 만들어봅시다.\n",
    "class Mate:\n",
    "    def set_info(self, name, github, blood, arrive):\n",
    "        self.name = name\n",
    "        self.blood = blood\n",
    "        self.github = github\n",
    "        self.arrive = arrive\n",
    "        \n",
    "    \n",
    "    def get_info(self):\n",
    "        print(self.name, self.blood, self.github)\n",
    "        \n",
    "        \n",
    "    def dochak(self):\n",
    "        print(f'{self.name}는 도착하면 {self.arrive}를 합니다.')\n",
    "        \n",
    "        \n",
    "m = Mate()\n",
    "m.set_info('이상주', 'O', 'leesangju92', '화장실')\n",
    "m.get_info()\n",
    "m.dochak()\n",
    "m.set_info('권성령', 'AB', 'ddorom', '컴터켜기')\n",
    "m.get_info()\n",
    "m.dochak()\n",
    "m.set_info('장재영', 'O', 'snowink1137', '앉기')\n",
    "m.get_info()\n",
    "m.dochak()"
   ]
  },
  {
   "cell_type": "code",
   "execution_count": 74,
   "metadata": {},
   "outputs": [
    {
     "name": "stdout",
     "output_type": "stream",
     "text": [
      "이상주 O leesangju92\n",
      "이상주는 도착하면 화장실를 합니다.\n",
      "안녕하세요! 제 이름은 이상주 입니다.\n",
      "제 github 아이디는 leesangju92 입니다.\n",
      "권성령 AB ddorom\n",
      "권성령는 도착하면 컴터켜기를 합니다.\n",
      "안녕하세요! 제 이름은 권성령 입니다.\n",
      "제 github 아이디는 ddorom 입니다.\n",
      "장재영 O snowink1137\n",
      "장재영는 도착하면 앉기를 합니다.\n",
      "안녕하세요! 제 이름은 장재영 입니다.\n",
      "제 github 아이디는 snowink1137 입니다.\n",
      "3\n",
      "3\n",
      "3\n"
     ]
    }
   ],
   "source": [
    "# Class를 만들어봅시다. __init__ 활용. 더 간단.\n",
    "class Mate:\n",
    "    ban = 3\n",
    "    classroom = 703\n",
    "    def __init__(self, name, blood, github, arrive):\n",
    "        self.name = name\n",
    "        self.blood = blood\n",
    "        self.github = github\n",
    "        self.arrive = arrive\n",
    "    \n",
    "    \n",
    "    def intro(self):\n",
    "        print(f'안녕하세요! 제 이름은 {self.name} 입니다.')\n",
    "        print(f'제 github 아이디는 {self.github} 입니다.')\n",
    "    \n",
    "    \n",
    "    \n",
    "    def get_info(self):\n",
    "        print(self.name, self.blood, self.github)\n",
    "        \n",
    "        \n",
    "    def dochak(self):\n",
    "        print(f'{self.name}는 도착하면 {self.arrive}를 합니다.')\n",
    "        \n",
    "        \n",
    "lee = Mate('이상주', 'O', 'leesangju92', '화장실')\n",
    "kwon = Mate('권성령', 'AB', 'ddorom', '컴터켜기')\n",
    "jang = Mate('장재영', 'O', 'snowink1137', '앉기')\n",
    "lee.get_info()\n",
    "lee.dochak()\n",
    "lee.intro()\n",
    "kwon.get_info()\n",
    "kwon.dochak()\n",
    "kwon.intro()\n",
    "jang.get_info()\n",
    "jang.dochak()\n",
    "jang.intro()\n",
    "print(lee.ban)\n",
    "print(kwon.ban)\n",
    "print(jang.ban)"
   ]
  },
  {
   "cell_type": "code",
   "execution_count": 29,
   "metadata": {},
   "outputs": [
    {
     "name": "stdout",
     "output_type": "stream",
     "text": [
      "A santa at NASA\n",
      "True\n",
      "한글자만 넣어라!\n",
      "ㅋㅋㅋㅋ\n",
      "<bound method Text.start_hangman of <__main__.Text object at 0x000001C0B2E3EF60>>\n",
      "한글자만 넣어라!\n",
      "ㅋㅋㅋㅋ\n"
     ]
    }
   ],
   "source": [
    "class Text:\n",
    "    def __init__(self, content):\n",
    "        self.content = content\n",
    "        \n",
    "    \n",
    "    def is_palindrome(self):\n",
    "        txt = self.content.replace(' ', '').lower()\n",
    "        return txt == ''.join(reversed(txt))\n",
    "        \n",
    "        \n",
    "    def start_hangman(self):\n",
    "        guess = input('한글자만 넣어라')\n",
    "        if guess in self.content:\n",
    "            print('오 맞음!')\n",
    "        else:\n",
    "            print('ㅋㅋㅋㅋ')\n",
    "        \n",
    "        \n",
    "my_text = Text('A santa at NASA')\n",
    "\n",
    "print(my_text.content)\n",
    "print(my_text.is_palindrome())\n",
    "my_text.start_hangman()\n",
    "\n",
    "your_text = Text('apple')\n",
    "print(your_text.start_hangman)\n",
    "your_text.start_hangman()"
   ]
  },
  {
   "cell_type": "code",
   "execution_count": 31,
   "metadata": {},
   "outputs": [
    {
     "name": "stdout",
     "output_type": "stream",
     "text": [
      "<class 'type'>\n",
      "<class '__main__.TestClass'>\n",
      "\n",
      "    This is Test Class\n",
      "    \n"
     ]
    }
   ],
   "source": [
    "class TestClass:\n",
    "    \"\"\"\n",
    "    This is Test Class\n",
    "    \"\"\"\n",
    "    \n",
    "print(type(TestClass))\n",
    "\n",
    "tc = TestClass()\n",
    "print(type(tc))\n",
    "print(tc.__doc__)"
   ]
  },
  {
   "cell_type": "code",
   "execution_count": null,
   "metadata": {},
   "outputs": [],
   "source": [
    "# Person 클래스를 만들어봅시다."
   ]
  },
  {
   "cell_type": "code",
   "execution_count": 47,
   "metadata": {},
   "outputs": [
    {
     "name": "stdout",
     "output_type": "stream",
     "text": [
      "HELLO!\n"
     ]
    }
   ],
   "source": [
    "class Person:\n",
    "    name = '홍길동'\n",
    "    \n",
    "    def say_hi(self):\n",
    "        print('HELLO!')\n",
    " \n",
    "\n",
    "    def intro(self):\n",
    "        print(f'I am {self.name}')\n",
    "    \n",
    "    \n",
    "p = Person()\n",
    "p.say_hi()"
   ]
  },
  {
   "cell_type": "markdown",
   "metadata": {},
   "source": [
    "* 선언시 self는 반드시 작성해주세요! 나중에 설명드립니다."
   ]
  },
  {
   "cell_type": "markdown",
   "metadata": {},
   "source": [
    "## 인스턴스 객체\n",
    "\n",
    "* 인스턴스 객체는 `ClassName()`을 호출함으로써 선언된다.\n",
    "\n",
    "* 인스턴스 객체와 클래스 객체는 서로 다른 이름 공간을 가지고 있다.\n",
    "\n",
    "* 인스턴스 -> 클래스 -> 전역 순으로 탐색을 한다."
   ]
  },
  {
   "cell_type": "code",
   "execution_count": 48,
   "metadata": {},
   "outputs": [],
   "source": [
    "# iu라는 클래스 Person의 인스턴스를 만들어봅시다. \n",
    "iu = Person()"
   ]
  },
  {
   "cell_type": "code",
   "execution_count": 49,
   "metadata": {},
   "outputs": [
    {
     "name": "stdout",
     "output_type": "stream",
     "text": [
      "HELLO!\n"
     ]
    }
   ],
   "source": [
    "# 인사하는 메서드를 호출해봅시다.\n",
    "iu.say_hi()"
   ]
  },
  {
   "cell_type": "code",
   "execution_count": 50,
   "metadata": {},
   "outputs": [
    {
     "data": {
      "text/plain": [
       "'홍길동'"
      ]
     },
     "execution_count": 50,
     "metadata": {},
     "output_type": "execute_result"
    }
   ],
   "source": [
    "# iu의 이름을 확인해봅시다.\n",
    "iu.name"
   ]
  },
  {
   "cell_type": "code",
   "execution_count": 52,
   "metadata": {},
   "outputs": [
    {
     "name": "stdout",
     "output_type": "stream",
     "text": [
      "IU\n"
     ]
    }
   ],
   "source": [
    "# iu로 이름을 바꿔주세요.\n",
    "iu.name = 'IU'\n",
    "print(iu.name)"
   ]
  },
  {
   "cell_type": "code",
   "execution_count": 53,
   "metadata": {},
   "outputs": [
    {
     "name": "stdout",
     "output_type": "stream",
     "text": [
      "I am IU\n"
     ]
    }
   ],
   "source": [
    "# iu가 인사를 합니다.\n",
    "iu.intro()"
   ]
  },
  {
   "cell_type": "code",
   "execution_count": 64,
   "metadata": {},
   "outputs": [
    {
     "data": {
      "text/plain": [
       "True"
      ]
     },
     "execution_count": 64,
     "metadata": {},
     "output_type": "execute_result"
    }
   ],
   "source": [
    "# iu와 Person이 같은지 확인해보겠습니다.\n",
    "isinstance(iu, Person)"
   ]
  },
  {
   "cell_type": "code",
   "execution_count": 65,
   "metadata": {},
   "outputs": [
    {
     "data": {
      "text/plain": [
       "True"
      ]
     },
     "execution_count": 65,
     "metadata": {},
     "output_type": "execute_result"
    }
   ],
   "source": [
    "# iu와 Person이 같은지 확인해보겠습니다.\n",
    "type(iu) == Person"
   ]
  },
  {
   "cell_type": "code",
   "execution_count": 66,
   "metadata": {},
   "outputs": [
    {
     "name": "stdout",
     "output_type": "stream",
     "text": [
      "<built-in function id>\n"
     ]
    }
   ],
   "source": [
    "# iu를 출력해봅시다.\n",
    "print(id)"
   ]
  },
  {
   "cell_type": "code",
   "execution_count": 68,
   "metadata": {},
   "outputs": [
    {
     "data": {
      "text/plain": [
       "<__main__.Person at 0x1c0b2e5c588>"
      ]
     },
     "execution_count": 68,
     "metadata": {},
     "output_type": "execute_result"
    }
   ],
   "source": [
    "# iu를 출력해봅시다2\n",
    "iu"
   ]
  },
  {
   "cell_type": "code",
   "execution_count": 70,
   "metadata": {},
   "outputs": [
    {
     "data": {
      "text/plain": [
       "__main__.Person"
      ]
     },
     "execution_count": 70,
     "metadata": {},
     "output_type": "execute_result"
    }
   ],
   "source": [
    "# type을 확인해봅시다.\n",
    "type(iu)"
   ]
  },
  {
   "cell_type": "markdown",
   "metadata": {},
   "source": [
    "* 파이썬 출력의 비밀 : repr, str"
   ]
  },
  {
   "cell_type": "code",
   "execution_count": null,
   "metadata": {},
   "outputs": [],
   "source": []
  },
  {
   "cell_type": "code",
   "execution_count": null,
   "metadata": {},
   "outputs": [],
   "source": [
    "# 강다니엘을 만들어봅시다."
   ]
  },
  {
   "cell_type": "code",
   "execution_count": null,
   "metadata": {},
   "outputs": [],
   "source": [
    "# 강다니엘을 출력해봅시다."
   ]
  },
  {
   "cell_type": "markdown",
   "metadata": {},
   "source": [
    "## 실습 문제 발전\n",
    "\n",
    "> 지금까지 배운 것을 통해서 Person 클래스를 만들고, 친구와 나를 표현해봅시다.\n",
    ">\n",
    "> 주머니와 정보를 가지고 있고 (멤버 변수)\n",
    "> \n",
    "> 인사(`greeting()`)와 주머니에 내용을 추가(`in_my_pocket()`)할 수 있습니다. (메서드)\n",
    ">\n",
    "> 추가적으로 `get_my_pocket()`으로 지갑에 담긴 정보를 가져와 봅시다.\n",
    ">\n",
    "> 그리고 사람을 출력하면, 지갑을 제외한 정보를 보여줘보세요. "
   ]
  },
  {
   "cell_type": "code",
   "execution_count": null,
   "metadata": {},
   "outputs": [],
   "source": [
    "# 아래에 코드를 작성해주세요.\n"
   ]
  },
  {
   "cell_type": "markdown",
   "metadata": {},
   "source": [
    "## MyList만들기\n",
    "\n",
    "> 이제 배운 것을 활용하여 나만의 리스트 객체를 만들 수 있습니다. \n",
    ">\n",
    "> `class MyList:`\n",
    ">\n",
    "\n",
    "```\n",
    "* 변수\n",
    "data : 비어 있는 리스트\n",
    "\n",
    "* 메서드 \n",
    "append : 값을 받아 추가합니다.\n",
    "pop : 마지막에 있는 값을 없애고, 해당 값을 리턴합니다.\n",
    "reverse : 제자리에서 뒤집고 리턴 값은 없습니다.\n",
    "count(x) : x의 갯수를 반환합니다.\n",
    "clear : 값을 모두 삭제합니다.\n",
    "\n",
    "__repr__ : ex) '리스트 내용 1, 2, 3'\n",
    "```"
   ]
  },
  {
   "cell_type": "code",
   "execution_count": null,
   "metadata": {},
   "outputs": [],
   "source": [
    "# 아래에 코드를 작성해주세요."
   ]
  },
  {
   "cell_type": "markdown",
   "metadata": {},
   "source": [
    "## 자유롭게 만들어보기\n",
    "\n",
    "> 이 세상에 있는 무엇인가를 자유롭게 표현해주세요."
   ]
  },
  {
   "cell_type": "code",
   "execution_count": 9,
   "metadata": {},
   "outputs": [
    {
     "name": "stdout",
     "output_type": "stream",
     "text": [
      "피카츄의 공격 기회입니다. 공격 방법을 골라주세요. 1. 몸통 박치기 2. 전기 충격2\n",
      "피카츄의 체력이 100가 남았습니다.\n",
      "파이리의 공격 기회입니다. 공격 방법을 골라주세요. 1. 몸통 박치기 2. 솔라빔2\n",
      "파이리의 체력이 70가 남았습니다.\n",
      "피카츄의 공격 기회입니다. 공격 방법을 골라주세요. 1. 몸통 박치기 2. 전기 충격2\n",
      "피카츄의 체력이 70가 남았습니다.\n",
      "파이리의 공격 기회입니다. 공격 방법을 골라주세요. 1. 몸통 박치기 2. 솔라빔2\n",
      "파이리의 체력이 40가 남았습니다.\n",
      "피카츄의 공격 기회입니다. 공격 방법을 골라주세요. 1. 몸통 박치기 2. 전기 충격2\n",
      "피카츄의 체력이 40가 남았습니다.\n",
      "파이리의 공격 기회입니다. 공격 방법을 골라주세요. 1. 몸통 박치기 2. 솔라빔2\n",
      "파이리의 체력이 10가 남았습니다.\n",
      "피카츄의 공격 기회입니다. 공격 방법을 골라주세요. 1. 몸통 박치기 2. 전기 충격1\n",
      "피카츄의 승리입니다!\n"
     ]
    }
   ],
   "source": [
    "# 아래에 코드를 작성해주세요.\n",
    "# object define part\n",
    "class Pokemon:\n",
    "    def __init__(self, name, level):\n",
    "        self.name = name\n",
    "        self.level = level\n",
    "        self.hp = level * 10\n",
    "        \n",
    "        \n",
    "    def set_hp(self, point):\n",
    "        self.hp += point\n",
    "        \n",
    "        \n",
    "    def check_status(self):\n",
    "        if self.hp > 0:\n",
    "            return True\n",
    "        else:\n",
    "            return False\n",
    "        \n",
    "        \n",
    "class Pikachu(Pokemon):\n",
    "    def __init__(self, name, level):\n",
    "        self.name = name\n",
    "        self.level = level\n",
    "        self.hp = level * 10\n",
    "        self.type = 'elec'\n",
    "        \n",
    "    \n",
    "    def body_attack(self, enemy):\n",
    "        enemy.set_hp(-1*self.level)\n",
    "        \n",
    "    \n",
    "    def volt_attack(self, enemy):\n",
    "        if enemy.type == 'water':\n",
    "            enemy.set_hp(-3*self.level*1.5)\n",
    "        elif enemy.type == 'stone':\n",
    "            enemy.set_hp(-3*self.level*0.5)\n",
    "        else:\n",
    "            enemy.set_hp(-3*self.level)\n",
    "    \n",
    "    \n",
    "        \n",
    "class Charmander(Pokemon):\n",
    "    def __init__(self, name, level):\n",
    "        self.name = name\n",
    "        self.level = level\n",
    "        self.hp = level * 10\n",
    "        self.type = 'fire'    \n",
    "    \n",
    "    \n",
    "    def body_attack(self, enemy):\n",
    "        enemy.set_hp(-1*self.level) \n",
    "    \n",
    "        \n",
    "    def fire_attack(self, enemy):\n",
    "        if enemy.type == 'grass':\n",
    "            enemy.set_hp(-3*self.level*1.5)\n",
    "        elif enemy.type == 'water':\n",
    "            enemy.set_hp(-3*self.level*0.5)\n",
    "        else:\n",
    "            enemy.set_hp(-3*self.level)\n",
    "            \n",
    "            \n",
    "class Bulbasaur(Pokemon):\n",
    "    def __init__(self, name, level):\n",
    "        self.name = name\n",
    "        self.level = level\n",
    "        self.hp = level * 10\n",
    "        self.type = 'grass'    \n",
    "    \n",
    "    \n",
    "    def body_attack(self, enemy):\n",
    "        enemy.set_hp(-1*self.level) \n",
    "    \n",
    "        \n",
    "    def solar_attack(self, enemy):\n",
    "        if enemy.type == 'water':\n",
    "            enemy.set_hp(-3*self.level*1.5)\n",
    "        elif enemy.type == 'fire':\n",
    "            enemy.set_hp(-3*self.level*0.5)        \n",
    "        else:\n",
    "            enemy.set_hp(-3*self.level)\n",
    "    \n",
    "    \n",
    "    \n",
    "\n",
    "# run part\n",
    "p = Pikachu('피카츄', 10)\n",
    "c = Charmander('파이리', 10)\n",
    "b = Bulbasaur('이상해씨', 10)\n",
    "\n",
    "while p.check_status() and c.check_status():\n",
    "    attack = int(input(f'{p.name}의 공격 기회입니다. 공격 방법을 골라주세요. 1. 몸통 박치기 2. 전기 충격'))\n",
    "    if attack == 1:\n",
    "        p.body_attack(c)\n",
    "    elif attack == 2:\n",
    "        p.volt_attack(c)\n",
    "        \n",
    "        \n",
    "    if c.check_status():\n",
    "        print(f'{p.name}의 체력이 {p.hp}가 남았습니다.')\n",
    "    else:\n",
    "        print(f'{p.name}의 승리입니다!')\n",
    "        break\n",
    "        \n",
    "    \n",
    "    attack = int(input(f'{c.name}의 공격 기회입니다. 공격 방법을 골라주세요. 1. 몸통 박치기 2. 불꽃 공격'))\n",
    "    if attack == 1:\n",
    "        c.body_attack(p)\n",
    "    elif attack == 2:\n",
    "        c.fire_attack(p)\n",
    "        \n",
    "        \n",
    "    if p.check_status():\n",
    "        print(f'{c.name}의 체력이 {c.hp}가 남았습니다.')\n",
    "    else:\n",
    "        print(f'{c.name}의 승리입니다!')\n",
    "        break"
   ]
  },
  {
   "cell_type": "code",
   "execution_count": null,
   "metadata": {},
   "outputs": [],
   "source": []
  }
 ],
 "metadata": {
  "kernelspec": {
   "display_name": "Python 3",
   "language": "python",
   "name": "python3"
  },
  "language_info": {
   "codemirror_mode": {
    "name": "ipython",
    "version": 3
   },
   "file_extension": ".py",
   "mimetype": "text/x-python",
   "name": "python",
   "nbconvert_exporter": "python",
   "pygments_lexer": "ipython3",
   "version": "3.6.7"
  },
  "latex_envs": {
   "LaTeX_envs_menu_present": true,
   "autoclose": false,
   "autocomplete": true,
   "bibliofile": "biblio.bib",
   "cite_by": "apalike",
   "current_citInitial": 1,
   "eqLabelWithNumbers": true,
   "eqNumInitial": 1,
   "hotkeys": {
    "equation": "Ctrl-E",
    "itemize": "Ctrl-I"
   },
   "labels_anchors": false,
   "latex_user_defs": false,
   "report_style_numbering": false,
   "user_envs_cfg": false
  },
  "toc": {
   "base_numbering": 1,
   "nav_menu": {},
   "number_sections": true,
   "sideBar": true,
   "skip_h1_title": false,
   "title_cell": "Table of Contents",
   "title_sidebar": "Contents",
   "toc_cell": false,
   "toc_position": {},
   "toc_section_display": true,
   "toc_window_display": false
  }
 },
 "nbformat": 4,
 "nbformat_minor": 2
}
