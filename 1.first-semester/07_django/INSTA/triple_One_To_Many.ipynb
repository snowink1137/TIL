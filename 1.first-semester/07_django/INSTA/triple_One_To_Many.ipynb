{
 "cells": [
  {
   "cell_type": "markdown",
   "metadata": {},
   "source": [
    "# ONE TO MANY 3\n",
    "\n",
    "#### Message\n",
    "\n",
    "| id (PK) | content       | student (FK) - Student |\n",
    "| ------- | ------------- | ---------------------- |\n",
    "| INT     | CharField(30) | INT                    |\n",
    "\n",
    "#### Reply\n",
    "\n",
    "| id (PK) | content       | student (FK) - Student | message (FK) - Message |\n",
    "| ------- | ------------- | ---------------------- | ---------------------- |\n",
    "| INT     | CharField(30) | INT                    | INT                    |"
   ]
  },
  {
   "cell_type": "code",
   "execution_count": 1,
   "metadata": {},
   "outputs": [
    {
     "data": {
      "text/plain": [
       "<Student: Student object (2)>"
      ]
     },
     "execution_count": 1,
     "metadata": {},
     "output_type": "execute_result"
    }
   ],
   "source": [
    "Student.objects.create(name='이상주')\n",
    "Student.objects.create(name='장재영')"
   ]
  },
  {
   "cell_type": "code",
   "execution_count": 8,
   "metadata": {},
   "outputs": [
    {
     "data": {
      "text/plain": [
       "<Student: Student object (3)>"
      ]
     },
     "execution_count": 8,
     "metadata": {},
     "output_type": "execute_result"
    }
   ],
   "source": [
    "Student.objects.create(name='권성령')"
   ]
  },
  {
   "cell_type": "code",
   "execution_count": 2,
   "metadata": {},
   "outputs": [],
   "source": [
    "rolling_paper = Message()\n",
    "rolling_paper.student = Student.objects.get(id=1)\n",
    "rolling_paper.content = '이상주님에게 메세지를 남겨주세요'\n",
    "rolling_paper.save()"
   ]
  },
  {
   "cell_type": "code",
   "execution_count": 3,
   "metadata": {},
   "outputs": [
    {
     "data": {
      "text/plain": [
       "'이상주'"
      ]
     },
     "execution_count": 3,
     "metadata": {},
     "output_type": "execute_result"
    }
   ],
   "source": [
    "rolling_paper.student.name"
   ]
  },
  {
   "cell_type": "code",
   "execution_count": 4,
   "metadata": {},
   "outputs": [],
   "source": [
    "reply = Reply()\n",
    "reply.message = rolling_paper\n",
    "reply.student = Student.objects.get(name='장재영')\n",
    "reply.content = '010100001110101'\n",
    "reply.save()"
   ]
  },
  {
   "cell_type": "code",
   "execution_count": 9,
   "metadata": {},
   "outputs": [],
   "source": [
    "reply = Reply()\n",
    "reply.message = rolling_paper\n",
    "reply.student = Student.objects.get(name='권성령')\n",
    "reply.content = 'sdgnglsdnlsnsdf'\n",
    "reply.save()"
   ]
  },
  {
   "cell_type": "code",
   "execution_count": 10,
   "metadata": {},
   "outputs": [
    {
     "data": {
      "text/plain": [
       "'sdgnglsdnlsnsdf'"
      ]
     },
     "execution_count": 10,
     "metadata": {},
     "output_type": "execute_result"
    }
   ],
   "source": [
    "reply.content"
   ]
  },
  {
   "cell_type": "code",
   "execution_count": 11,
   "metadata": {},
   "outputs": [
    {
     "data": {
      "text/plain": [
       "'이상주님에게 메세지를 남겨주세요'"
      ]
     },
     "execution_count": 11,
     "metadata": {},
     "output_type": "execute_result"
    }
   ],
   "source": [
    "reply.message.content"
   ]
  },
  {
   "cell_type": "code",
   "execution_count": 12,
   "metadata": {},
   "outputs": [
    {
     "data": {
      "text/plain": [
       "<QuerySet [<Reply: Reply object (1)>, <Reply: Reply object (2)>]>"
      ]
     },
     "execution_count": 12,
     "metadata": {},
     "output_type": "execute_result"
    }
   ],
   "source": [
    "reply.message.reply_set.all()"
   ]
  },
  {
   "cell_type": "code",
   "execution_count": null,
   "metadata": {},
   "outputs": [],
   "source": []
  }
 ],
 "metadata": {
  "kernelspec": {
   "display_name": "Django Shell-Plus",
   "language": "python",
   "name": "django_extensions"
  },
  "language_info": {
   "codemirror_mode": {
    "name": "ipython",
    "version": 3
   },
   "file_extension": ".py",
   "mimetype": "text/x-python",
   "name": "python",
   "nbconvert_exporter": "python",
   "pygments_lexer": "ipython3",
   "version": "3.7.3"
  }
 },
 "nbformat": 4,
 "nbformat_minor": 2
}
