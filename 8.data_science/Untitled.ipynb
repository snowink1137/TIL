{
 "cells": [
  {
   "cell_type": "code",
   "execution_count": 1,
   "metadata": {},
   "outputs": [],
   "source": [
    "import pandas as pd"
   ]
  },
  {
   "cell_type": "code",
   "execution_count": 3,
   "metadata": {},
   "outputs": [
    {
     "data": {
      "text/html": [
       "<div>\n",
       "<style scoped>\n",
       "    .dataframe tbody tr th:only-of-type {\n",
       "        vertical-align: middle;\n",
       "    }\n",
       "\n",
       "    .dataframe tbody tr th {\n",
       "        vertical-align: top;\n",
       "    }\n",
       "\n",
       "    .dataframe thead th {\n",
       "        text-align: right;\n",
       "    }\n",
       "</style>\n",
       "<table border=\"1\" class=\"dataframe\">\n",
       "  <thead>\n",
       "    <tr style=\"text-align: right;\">\n",
       "      <th></th>\n",
       "      <th>Unnamed: 0</th>\n",
       "      <th>City / Urban area</th>\n",
       "      <th>Country</th>\n",
       "      <th>Population</th>\n",
       "      <th>Land area (in sqKm)</th>\n",
       "    </tr>\n",
       "  </thead>\n",
       "  <tbody>\n",
       "    <tr>\n",
       "      <th>0</th>\n",
       "      <td>0</td>\n",
       "      <td>Buenos Aires</td>\n",
       "      <td>Argentina</td>\n",
       "      <td>11200000</td>\n",
       "      <td>2266</td>\n",
       "    </tr>\n",
       "    <tr>\n",
       "      <th>1</th>\n",
       "      <td>1</td>\n",
       "      <td>Melbourne</td>\n",
       "      <td>Australia</td>\n",
       "      <td>3162000</td>\n",
       "      <td>2080</td>\n",
       "    </tr>\n",
       "    <tr>\n",
       "      <th>2</th>\n",
       "      <td>2</td>\n",
       "      <td>Sydney</td>\n",
       "      <td>Australia</td>\n",
       "      <td>3502000</td>\n",
       "      <td>1687</td>\n",
       "    </tr>\n",
       "    <tr>\n",
       "      <th>3</th>\n",
       "      <td>3</td>\n",
       "      <td>Brisbane</td>\n",
       "      <td>Australia</td>\n",
       "      <td>1508000</td>\n",
       "      <td>1603</td>\n",
       "    </tr>\n",
       "    <tr>\n",
       "      <th>4</th>\n",
       "      <td>4</td>\n",
       "      <td>Perth</td>\n",
       "      <td>Australia</td>\n",
       "      <td>1177000</td>\n",
       "      <td>964</td>\n",
       "    </tr>\n",
       "    <tr>\n",
       "      <th>...</th>\n",
       "      <td>...</td>\n",
       "      <td>...</td>\n",
       "      <td>...</td>\n",
       "      <td>...</td>\n",
       "      <td>...</td>\n",
       "    </tr>\n",
       "    <tr>\n",
       "      <th>244</th>\n",
       "      <td>245</td>\n",
       "      <td>Canton</td>\n",
       "      <td>USA</td>\n",
       "      <td>267000</td>\n",
       "      <td>372</td>\n",
       "    </tr>\n",
       "    <tr>\n",
       "      <th>245</th>\n",
       "      <td>246</td>\n",
       "      <td>Spokane</td>\n",
       "      <td>USA</td>\n",
       "      <td>335000</td>\n",
       "      <td>371</td>\n",
       "    </tr>\n",
       "    <tr>\n",
       "      <th>246</th>\n",
       "      <td>247</td>\n",
       "      <td>Tashkent</td>\n",
       "      <td>Uzbekistan</td>\n",
       "      <td>2200000</td>\n",
       "      <td>531</td>\n",
       "    </tr>\n",
       "    <tr>\n",
       "      <th>247</th>\n",
       "      <td>248</td>\n",
       "      <td>Ho Chi Minh City</td>\n",
       "      <td>Vietnam</td>\n",
       "      <td>4900000</td>\n",
       "      <td>518</td>\n",
       "    </tr>\n",
       "    <tr>\n",
       "      <th>248</th>\n",
       "      <td>249</td>\n",
       "      <td>Harare</td>\n",
       "      <td>Zimbabwe</td>\n",
       "      <td>1750000</td>\n",
       "      <td>712</td>\n",
       "    </tr>\n",
       "  </tbody>\n",
       "</table>\n",
       "<p>249 rows × 5 columns</p>\n",
       "</div>"
      ],
      "text/plain": [
       "     Unnamed: 0 City / Urban area     Country  Population  Land area (in sqKm)\n",
       "0             0      Buenos Aires   Argentina    11200000                 2266\n",
       "1             1         Melbourne   Australia     3162000                 2080\n",
       "2             2            Sydney   Australia     3502000                 1687\n",
       "3             3          Brisbane   Australia     1508000                 1603\n",
       "4             4             Perth   Australia     1177000                  964\n",
       "..          ...               ...         ...         ...                  ...\n",
       "244         245            Canton         USA      267000                  372\n",
       "245         246           Spokane         USA      335000                  371\n",
       "246         247          Tashkent  Uzbekistan     2200000                  531\n",
       "247         248  Ho Chi Minh City     Vietnam     4900000                  518\n",
       "248         249            Harare    Zimbabwe     1750000                  712\n",
       "\n",
       "[249 rows x 5 columns]"
      ]
     },
     "execution_count": 3,
     "metadata": {},
     "output_type": "execute_result"
    }
   ],
   "source": [
    "df = pd.read_csv('./world_cities.csv')\n",
    "df"
   ]
  },
  {
   "cell_type": "code",
   "execution_count": 4,
   "metadata": {},
   "outputs": [
    {
     "name": "stdout",
     "output_type": "stream",
     "text": [
      "<class 'pandas.core.frame.DataFrame'>\n",
      "RangeIndex: 249 entries, 0 to 248\n",
      "Data columns (total 5 columns):\n",
      " #   Column               Non-Null Count  Dtype \n",
      "---  ------               --------------  ----- \n",
      " 0   Unnamed: 0           249 non-null    int64 \n",
      " 1   City / Urban area    249 non-null    object\n",
      " 2   Country              249 non-null    object\n",
      " 3   Population           249 non-null    int64 \n",
      " 4   Land area (in sqKm)  249 non-null    int64 \n",
      "dtypes: int64(3), object(2)\n",
      "memory usage: 9.9+ KB\n"
     ]
    }
   ],
   "source": [
    "df.info()"
   ]
  },
  {
   "cell_type": "code",
   "execution_count": 5,
   "metadata": {},
   "outputs": [
    {
     "data": {
      "text/plain": [
       "array(['Buenos Aires', 'Melbourne', 'Sydney', 'Brisbane', 'Perth',\n",
       "       'Adelaide', 'Gold Coast', 'Vienna', 'Baku/Sumqayit', 'Brussels',\n",
       "       'Antwerp', 'Sao Paulo', 'Rio de Janeiro', 'Belo Horizonte',\n",
       "       'Curitiba', 'Brasilia', 'Fortaleza', 'Porto Alegre', 'Campinas',\n",
       "       'Goiania', 'Recife', 'Phnom Penh', 'Montreal.', 'Toronto',\n",
       "       'Vancouver', 'Edmonton', 'Calgary', 'Quebec', 'Ottawa/Hull',\n",
       "       'Winnipeg', 'St. Catharines', 'Santiago', 'Beijing', 'Shanghai',\n",
       "       'Shenzhen', 'Shenyang', 'Tianjin', 'Dalian', 'Bogota', 'Kinshasa',\n",
       "       'Lumumbashi', 'Copenhagen', 'Quito', 'Cairo', 'Helsinki', 'Paris',\n",
       "       'Marseille', 'Bordeaux', 'Lyon', 'Toulouse', 'Nice', 'Toulon',\n",
       "       'Avignon', 'Valenciennes', 'Douai/Lens', 'Nantes', 'Lille', 'Pau',\n",
       "       'Tours', 'Bethune', 'Essen/Düsseldorf', 'Berlin', 'Frankfurt',\n",
       "       'Hamburg', 'Cologne/Bonn', 'Munich', 'Stuttgart', 'Aachen',\n",
       "       'Accra', 'Athens', 'Budapest', 'Delhi', 'Hyderabad', 'Bangalore',\n",
       "       'Kolkata', 'Mumbai', 'Chennai', 'Jakarta', 'Tehran', 'Baghdad',\n",
       "       'Dublin', 'Tel Aviv', 'Milan', 'Rome', 'Naples', 'Turin',\n",
       "       'Tokyo/Yokohama', 'Nagoya', 'Osaka/Kobe/Kyoto', 'Fukuoka',\n",
       "       'Sapporo', 'Kuwait', 'Beirut', 'Kuala Lumpur', 'Mexico City',\n",
       "       'Guadalajara', 'Monterey', 'Rotterdam', 'Auckland', 'Lagos',\n",
       "       'Lahore', 'Karachi', 'Lima', 'Manila', 'Katowice', 'Warsaw',\n",
       "       'Lisbon', 'Porto', 'San Juan', 'Aguadilla', 'Moscow',\n",
       "       'St Petersburg', 'Nizhni Novgorod', 'Arabia', 'Riyadh', 'Jeddah',\n",
       "       'Singapore', 'Johannesburg/East Rand', 'Durban', 'Cape Town',\n",
       "       'Pretoria', 'Vereeniging', 'Port Elizabeth', 'Seoul/Incheon',\n",
       "       'Madrid', 'Barcelona', 'Khartoum', 'Stockholm', 'Taichung',\n",
       "       'Taipei', 'Bangkok', 'Istanbul', 'Ankara', 'Abu Dhabi', 'Dubai',\n",
       "       'London', 'Birmingham', 'Manchester', 'Leeds/Bradford', 'Glasgow',\n",
       "       'Donetsk', 'New York Metro', 'Chicago', 'Atlanta', 'Philadelphia',\n",
       "       'Boston', 'Los Angeles', 'Dallas/Fort Worth', 'Houston', 'Detroit',\n",
       "       'Washington', 'Miami', 'Seattle', 'Minneapolis/St. Paul',\n",
       "       'Pittsburgh', 'St. Louis', 'Tampa//St. Petersburg', 'Phoenix/Mesa',\n",
       "       'San Diego', 'Baltimore', 'Cincinnati', 'Cleveland', 'Kansas City',\n",
       "       'Indianapolis', 'San Francisco//Oakland', 'Virginia Beach',\n",
       "       'Providence', 'Denver', 'Milwaukee', 'Portland', 'Hartford',\n",
       "       'Bridgeport//Stamford', 'Orlando', 'Riverside/San Bernardino',\n",
       "       'Richmond', 'Charlotte', 'Nashville', 'Jacksonville',\n",
       "       'San Antonio', 'Memphis', 'Columbus', 'Louisville', 'Sacramento',\n",
       "       'Buffalo', 'Knoxville', 'Dayton', 'Oklahoma City', 'Raleigh',\n",
       "       'Austin', 'McAllen', 'Springfield', 'Akron', 'Rochester', 'Tucson',\n",
       "       'Chattanooga', 'Allentown/Bethlehem', 'Barnstable Town',\n",
       "       'Las Vegas', 'New Haven', 'Albany', 'Baton Rouge',\n",
       "       'Sarasota//Bradenton', 'Columbia', 'Poughkeepsie', 'Tulsa',\n",
       "       'San Jose', 'Grand Rapids', 'Winston/Salem', 'Worcester',\n",
       "       'Augusta', 'Flint', 'Charleston', 'Salt Lake City', 'Youngstown',\n",
       "       'Greenville', 'Omaha', 'Albuquerque', 'Palm Bay', 'El Paso',\n",
       "       'Pensacola', 'Hickory', 'Mobile', 'Harrisburg', 'Asheville',\n",
       "       'Little Rock', 'Toledo', 'Lancaster', 'New Orleans',\n",
       "       'Colorado Springs', 'Cape Coral', 'Ogden', 'Syracuse', 'Wichita',\n",
       "       'Concord', 'Port St Lucie', 'Fayetteville', 'Jackson', 'Scranton',\n",
       "       'Huntsville', 'Durham', 'South Bend', 'Shreveport', 'Honolulu',\n",
       "       'Bonita Springs / Naples', 'Canton', 'Spokane', 'Tashkent',\n",
       "       'Ho Chi Minh City', 'Harare'], dtype=object)"
      ]
     },
     "execution_count": 5,
     "metadata": {},
     "output_type": "execute_result"
    }
   ],
   "source": [
    "df['City / Urban area'].unique()"
   ]
  },
  {
   "cell_type": "code",
   "execution_count": 6,
   "metadata": {},
   "outputs": [
    {
     "data": {
      "text/plain": [
       "Lagos                   1\n",
       "Munich                  1\n",
       "Naples                  1\n",
       "Orlando                 1\n",
       "Denver                  1\n",
       "                       ..\n",
       "Lima                    1\n",
       "Salt Lake City          1\n",
       "Budapest                1\n",
       "Bridgeport//Stamford    1\n",
       "Vienna                  1\n",
       "Name: City / Urban area, Length: 249, dtype: int64"
      ]
     },
     "execution_count": 6,
     "metadata": {},
     "output_type": "execute_result"
    }
   ],
   "source": [
    "df['City / Urban area'].value_counts()"
   ]
  },
  {
   "cell_type": "code",
   "execution_count": 7,
   "metadata": {},
   "outputs": [
    {
     "data": {
      "text/plain": [
       "count       249\n",
       "unique      249\n",
       "top       Lagos\n",
       "freq          1\n",
       "Name: City / Urban area, dtype: object"
      ]
     },
     "execution_count": 7,
     "metadata": {},
     "output_type": "execute_result"
    }
   ],
   "source": [
    "df['City / Urban area'].describe()"
   ]
  },
  {
   "cell_type": "code",
   "execution_count": 8,
   "metadata": {},
   "outputs": [
    {
     "data": {
      "text/plain": [
       "count     249\n",
       "unique     61\n",
       "top       USA\n",
       "freq      105\n",
       "Name: Country, dtype: object"
      ]
     },
     "execution_count": 8,
     "metadata": {},
     "output_type": "execute_result"
    }
   ],
   "source": [
    "df['Country'].describe()"
   ]
  },
  {
   "cell_type": "code",
   "execution_count": 17,
   "metadata": {},
   "outputs": [
    {
     "name": "stdout",
     "output_type": "stream",
     "text": [
      "<class 'pandas.core.frame.DataFrame'>\n",
      "Int64Index: 19 entries, 32 to 129\n",
      "Data columns (total 5 columns):\n",
      " #   Column               Non-Null Count  Dtype \n",
      "---  ------               --------------  ----- \n",
      " 0   Unnamed: 0           19 non-null     int64 \n",
      " 1   City / Urban area    19 non-null     object\n",
      " 2   Country              19 non-null     object\n",
      " 3   Population           19 non-null     int64 \n",
      " 4   Land area (in sqKm)  19 non-null     int64 \n",
      "dtypes: int64(3), object(2)\n",
      "memory usage: 912.0+ bytes\n"
     ]
    }
   ],
   "source": [
    "df[(df['Population'] / df['Land area (in sqKm)']) > 10000].info()"
   ]
  },
  {
   "cell_type": "code",
   "execution_count": 26,
   "metadata": {},
   "outputs": [
    {
     "data": {
      "text/plain": [
       "Italy    4\n",
       "Name: Country, dtype: int64"
      ]
     },
     "execution_count": 26,
     "metadata": {},
     "output_type": "execute_result"
    }
   ],
   "source": [
    "df['Country'].value_counts()[df['Country'].value_counts() == 4]"
   ]
  },
  {
   "cell_type": "code",
   "execution_count": null,
   "metadata": {},
   "outputs": [],
   "source": []
  }
 ],
 "metadata": {
  "kernelspec": {
   "display_name": "Python 3",
   "language": "python",
   "name": "python3"
  },
  "language_info": {
   "codemirror_mode": {
    "name": "ipython",
    "version": 3
   },
   "file_extension": ".py",
   "mimetype": "text/x-python",
   "name": "python",
   "nbconvert_exporter": "python",
   "pygments_lexer": "ipython3",
   "version": "3.7.8"
  }
 },
 "nbformat": 4,
 "nbformat_minor": 4
}
