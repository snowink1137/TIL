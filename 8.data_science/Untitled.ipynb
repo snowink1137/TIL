{
 "cells": [
  {
   "cell_type": "code",
   "execution_count": 1,
   "metadata": {},
   "outputs": [],
   "source": [
    "import pandas as pd"
   ]
  },
  {
   "cell_type": "code",
   "execution_count": 4,
   "metadata": {},
   "outputs": [
    {
     "data": {
      "text/html": [
       "<div>\n",
       "<style scoped>\n",
       "    .dataframe tbody tr th:only-of-type {\n",
       "        vertical-align: middle;\n",
       "    }\n",
       "\n",
       "    .dataframe tbody tr th {\n",
       "        vertical-align: top;\n",
       "    }\n",
       "\n",
       "    .dataframe thead th {\n",
       "        text-align: right;\n",
       "    }\n",
       "</style>\n",
       "<table border=\"1\" class=\"dataframe\">\n",
       "  <thead>\n",
       "    <tr style=\"text-align: right;\">\n",
       "      <th></th>\n",
       "      <th>Unnamed: 0</th>\n",
       "      <th>City / Urban area</th>\n",
       "      <th>Country</th>\n",
       "      <th>Population</th>\n",
       "      <th>Land area (in sqKm)</th>\n",
       "    </tr>\n",
       "  </thead>\n",
       "  <tbody>\n",
       "    <tr>\n",
       "      <th>0</th>\n",
       "      <td>0</td>\n",
       "      <td>Buenos Aires</td>\n",
       "      <td>Argentina</td>\n",
       "      <td>11200000</td>\n",
       "      <td>2266</td>\n",
       "    </tr>\n",
       "    <tr>\n",
       "      <th>1</th>\n",
       "      <td>1</td>\n",
       "      <td>Melbourne</td>\n",
       "      <td>Australia</td>\n",
       "      <td>3162000</td>\n",
       "      <td>2080</td>\n",
       "    </tr>\n",
       "    <tr>\n",
       "      <th>2</th>\n",
       "      <td>2</td>\n",
       "      <td>Sydney</td>\n",
       "      <td>Australia</td>\n",
       "      <td>3502000</td>\n",
       "      <td>1687</td>\n",
       "    </tr>\n",
       "    <tr>\n",
       "      <th>3</th>\n",
       "      <td>3</td>\n",
       "      <td>Brisbane</td>\n",
       "      <td>Australia</td>\n",
       "      <td>1508000</td>\n",
       "      <td>1603</td>\n",
       "    </tr>\n",
       "    <tr>\n",
       "      <th>4</th>\n",
       "      <td>4</td>\n",
       "      <td>Perth</td>\n",
       "      <td>Australia</td>\n",
       "      <td>1177000</td>\n",
       "      <td>964</td>\n",
       "    </tr>\n",
       "    <tr>\n",
       "      <th>...</th>\n",
       "      <td>...</td>\n",
       "      <td>...</td>\n",
       "      <td>...</td>\n",
       "      <td>...</td>\n",
       "      <td>...</td>\n",
       "    </tr>\n",
       "    <tr>\n",
       "      <th>244</th>\n",
       "      <td>245</td>\n",
       "      <td>Canton</td>\n",
       "      <td>USA</td>\n",
       "      <td>267000</td>\n",
       "      <td>372</td>\n",
       "    </tr>\n",
       "    <tr>\n",
       "      <th>245</th>\n",
       "      <td>246</td>\n",
       "      <td>Spokane</td>\n",
       "      <td>USA</td>\n",
       "      <td>335000</td>\n",
       "      <td>371</td>\n",
       "    </tr>\n",
       "    <tr>\n",
       "      <th>246</th>\n",
       "      <td>247</td>\n",
       "      <td>Tashkent</td>\n",
       "      <td>Uzbekistan</td>\n",
       "      <td>2200000</td>\n",
       "      <td>531</td>\n",
       "    </tr>\n",
       "    <tr>\n",
       "      <th>247</th>\n",
       "      <td>248</td>\n",
       "      <td>Ho Chi Minh City</td>\n",
       "      <td>Vietnam</td>\n",
       "      <td>4900000</td>\n",
       "      <td>518</td>\n",
       "    </tr>\n",
       "    <tr>\n",
       "      <th>248</th>\n",
       "      <td>249</td>\n",
       "      <td>Harare</td>\n",
       "      <td>Zimbabwe</td>\n",
       "      <td>1750000</td>\n",
       "      <td>712</td>\n",
       "    </tr>\n",
       "  </tbody>\n",
       "</table>\n",
       "<p>249 rows × 5 columns</p>\n",
       "</div>"
      ],
      "text/plain": [
       "     Unnamed: 0 City / Urban area     Country  Population  Land area (in sqKm)\n",
       "0             0      Buenos Aires   Argentina    11200000                 2266\n",
       "1             1         Melbourne   Australia     3162000                 2080\n",
       "2             2            Sydney   Australia     3502000                 1687\n",
       "3             3          Brisbane   Australia     1508000                 1603\n",
       "4             4             Perth   Australia     1177000                  964\n",
       "..          ...               ...         ...         ...                  ...\n",
       "244         245            Canton         USA      267000                  372\n",
       "245         246           Spokane         USA      335000                  371\n",
       "246         247          Tashkent  Uzbekistan     2200000                  531\n",
       "247         248  Ho Chi Minh City     Vietnam     4900000                  518\n",
       "248         249            Harare    Zimbabwe     1750000                  712\n",
       "\n",
       "[249 rows x 5 columns]"
      ]
     },
     "execution_count": 4,
     "metadata": {},
     "output_type": "execute_result"
    }
   ],
   "source": [
    "df = pd.read_csv('./world_cities.csv')\n",
    "df"
   ]
  },
  {
   "cell_type": "code",
   "execution_count": 4,
   "metadata": {},
   "outputs": [
    {
     "name": "stdout",
     "output_type": "stream",
     "text": [
      "<class 'pandas.core.frame.DataFrame'>\n",
      "RangeIndex: 249 entries, 0 to 248\n",
      "Data columns (total 5 columns):\n",
      " #   Column               Non-Null Count  Dtype \n",
      "---  ------               --------------  ----- \n",
      " 0   Unnamed: 0           249 non-null    int64 \n",
      " 1   City / Urban area    249 non-null    object\n",
      " 2   Country              249 non-null    object\n",
      " 3   Population           249 non-null    int64 \n",
      " 4   Land area (in sqKm)  249 non-null    int64 \n",
      "dtypes: int64(3), object(2)\n",
      "memory usage: 9.9+ KB\n"
     ]
    }
   ],
   "source": [
    "df.info()"
   ]
  },
  {
   "cell_type": "code",
   "execution_count": 5,
   "metadata": {},
   "outputs": [
    {
     "data": {
      "text/plain": [
       "array(['Buenos Aires', 'Melbourne', 'Sydney', 'Brisbane', 'Perth',\n",
       "       'Adelaide', 'Gold Coast', 'Vienna', 'Baku/Sumqayit', 'Brussels',\n",
       "       'Antwerp', 'Sao Paulo', 'Rio de Janeiro', 'Belo Horizonte',\n",
       "       'Curitiba', 'Brasilia', 'Fortaleza', 'Porto Alegre', 'Campinas',\n",
       "       'Goiania', 'Recife', 'Phnom Penh', 'Montreal.', 'Toronto',\n",
       "       'Vancouver', 'Edmonton', 'Calgary', 'Quebec', 'Ottawa/Hull',\n",
       "       'Winnipeg', 'St. Catharines', 'Santiago', 'Beijing', 'Shanghai',\n",
       "       'Shenzhen', 'Shenyang', 'Tianjin', 'Dalian', 'Bogota', 'Kinshasa',\n",
       "       'Lumumbashi', 'Copenhagen', 'Quito', 'Cairo', 'Helsinki', 'Paris',\n",
       "       'Marseille', 'Bordeaux', 'Lyon', 'Toulouse', 'Nice', 'Toulon',\n",
       "       'Avignon', 'Valenciennes', 'Douai/Lens', 'Nantes', 'Lille', 'Pau',\n",
       "       'Tours', 'Bethune', 'Essen/Düsseldorf', 'Berlin', 'Frankfurt',\n",
       "       'Hamburg', 'Cologne/Bonn', 'Munich', 'Stuttgart', 'Aachen',\n",
       "       'Accra', 'Athens', 'Budapest', 'Delhi', 'Hyderabad', 'Bangalore',\n",
       "       'Kolkata', 'Mumbai', 'Chennai', 'Jakarta', 'Tehran', 'Baghdad',\n",
       "       'Dublin', 'Tel Aviv', 'Milan', 'Rome', 'Naples', 'Turin',\n",
       "       'Tokyo/Yokohama', 'Nagoya', 'Osaka/Kobe/Kyoto', 'Fukuoka',\n",
       "       'Sapporo', 'Kuwait', 'Beirut', 'Kuala Lumpur', 'Mexico City',\n",
       "       'Guadalajara', 'Monterey', 'Rotterdam', 'Auckland', 'Lagos',\n",
       "       'Lahore', 'Karachi', 'Lima', 'Manila', 'Katowice', 'Warsaw',\n",
       "       'Lisbon', 'Porto', 'San Juan', 'Aguadilla', 'Moscow',\n",
       "       'St Petersburg', 'Nizhni Novgorod', 'Arabia', 'Riyadh', 'Jeddah',\n",
       "       'Singapore', 'Johannesburg/East Rand', 'Durban', 'Cape Town',\n",
       "       'Pretoria', 'Vereeniging', 'Port Elizabeth', 'Seoul/Incheon',\n",
       "       'Madrid', 'Barcelona', 'Khartoum', 'Stockholm', 'Taichung',\n",
       "       'Taipei', 'Bangkok', 'Istanbul', 'Ankara', 'Abu Dhabi', 'Dubai',\n",
       "       'London', 'Birmingham', 'Manchester', 'Leeds/Bradford', 'Glasgow',\n",
       "       'Donetsk', 'New York Metro', 'Chicago', 'Atlanta', 'Philadelphia',\n",
       "       'Boston', 'Los Angeles', 'Dallas/Fort Worth', 'Houston', 'Detroit',\n",
       "       'Washington', 'Miami', 'Seattle', 'Minneapolis/St. Paul',\n",
       "       'Pittsburgh', 'St. Louis', 'Tampa//St. Petersburg', 'Phoenix/Mesa',\n",
       "       'San Diego', 'Baltimore', 'Cincinnati', 'Cleveland', 'Kansas City',\n",
       "       'Indianapolis', 'San Francisco//Oakland', 'Virginia Beach',\n",
       "       'Providence', 'Denver', 'Milwaukee', 'Portland', 'Hartford',\n",
       "       'Bridgeport//Stamford', 'Orlando', 'Riverside/San Bernardino',\n",
       "       'Richmond', 'Charlotte', 'Nashville', 'Jacksonville',\n",
       "       'San Antonio', 'Memphis', 'Columbus', 'Louisville', 'Sacramento',\n",
       "       'Buffalo', 'Knoxville', 'Dayton', 'Oklahoma City', 'Raleigh',\n",
       "       'Austin', 'McAllen', 'Springfield', 'Akron', 'Rochester', 'Tucson',\n",
       "       'Chattanooga', 'Allentown/Bethlehem', 'Barnstable Town',\n",
       "       'Las Vegas', 'New Haven', 'Albany', 'Baton Rouge',\n",
       "       'Sarasota//Bradenton', 'Columbia', 'Poughkeepsie', 'Tulsa',\n",
       "       'San Jose', 'Grand Rapids', 'Winston/Salem', 'Worcester',\n",
       "       'Augusta', 'Flint', 'Charleston', 'Salt Lake City', 'Youngstown',\n",
       "       'Greenville', 'Omaha', 'Albuquerque', 'Palm Bay', 'El Paso',\n",
       "       'Pensacola', 'Hickory', 'Mobile', 'Harrisburg', 'Asheville',\n",
       "       'Little Rock', 'Toledo', 'Lancaster', 'New Orleans',\n",
       "       'Colorado Springs', 'Cape Coral', 'Ogden', 'Syracuse', 'Wichita',\n",
       "       'Concord', 'Port St Lucie', 'Fayetteville', 'Jackson', 'Scranton',\n",
       "       'Huntsville', 'Durham', 'South Bend', 'Shreveport', 'Honolulu',\n",
       "       'Bonita Springs / Naples', 'Canton', 'Spokane', 'Tashkent',\n",
       "       'Ho Chi Minh City', 'Harare'], dtype=object)"
      ]
     },
     "execution_count": 5,
     "metadata": {},
     "output_type": "execute_result"
    }
   ],
   "source": [
    "df['City / Urban area'].unique()"
   ]
  },
  {
   "cell_type": "code",
   "execution_count": 6,
   "metadata": {},
   "outputs": [
    {
     "data": {
      "text/plain": [
       "Lagos                   1\n",
       "Munich                  1\n",
       "Naples                  1\n",
       "Orlando                 1\n",
       "Denver                  1\n",
       "                       ..\n",
       "Lima                    1\n",
       "Salt Lake City          1\n",
       "Budapest                1\n",
       "Bridgeport//Stamford    1\n",
       "Vienna                  1\n",
       "Name: City / Urban area, Length: 249, dtype: int64"
      ]
     },
     "execution_count": 6,
     "metadata": {},
     "output_type": "execute_result"
    }
   ],
   "source": [
    "df['City / Urban area'].value_counts()"
   ]
  },
  {
   "cell_type": "code",
   "execution_count": 7,
   "metadata": {},
   "outputs": [
    {
     "data": {
      "text/plain": [
       "count       249\n",
       "unique      249\n",
       "top       Lagos\n",
       "freq          1\n",
       "Name: City / Urban area, dtype: object"
      ]
     },
     "execution_count": 7,
     "metadata": {},
     "output_type": "execute_result"
    }
   ],
   "source": [
    "df['City / Urban area'].describe()"
   ]
  },
  {
   "cell_type": "code",
   "execution_count": 8,
   "metadata": {},
   "outputs": [
    {
     "data": {
      "text/plain": [
       "count     249\n",
       "unique     61\n",
       "top       USA\n",
       "freq      105\n",
       "Name: Country, dtype: object"
      ]
     },
     "execution_count": 8,
     "metadata": {},
     "output_type": "execute_result"
    }
   ],
   "source": [
    "df['Country'].describe()"
   ]
  },
  {
   "cell_type": "code",
   "execution_count": 17,
   "metadata": {},
   "outputs": [
    {
     "name": "stdout",
     "output_type": "stream",
     "text": [
      "<class 'pandas.core.frame.DataFrame'>\n",
      "Int64Index: 19 entries, 32 to 129\n",
      "Data columns (total 5 columns):\n",
      " #   Column               Non-Null Count  Dtype \n",
      "---  ------               --------------  ----- \n",
      " 0   Unnamed: 0           19 non-null     int64 \n",
      " 1   City / Urban area    19 non-null     object\n",
      " 2   Country              19 non-null     object\n",
      " 3   Population           19 non-null     int64 \n",
      " 4   Land area (in sqKm)  19 non-null     int64 \n",
      "dtypes: int64(3), object(2)\n",
      "memory usage: 912.0+ bytes\n"
     ]
    }
   ],
   "source": [
    "df[(df['Population'] / df['Land area (in sqKm)']) > 10000].info()"
   ]
  },
  {
   "cell_type": "code",
   "execution_count": 26,
   "metadata": {},
   "outputs": [
    {
     "data": {
      "text/plain": [
       "Italy    4\n",
       "Name: Country, dtype: int64"
      ]
     },
     "execution_count": 26,
     "metadata": {},
     "output_type": "execute_result"
    }
   ],
   "source": [
    "df['Country'].value_counts()[df['Country'].value_counts() == 4]"
   ]
  },
  {
   "cell_type": "code",
   "execution_count": 2,
   "metadata": {},
   "outputs": [],
   "source": [
    "%matplotlib inline\n",
    "\n",
    "import pandas as pd"
   ]
  },
  {
   "cell_type": "code",
   "execution_count": 3,
   "metadata": {},
   "outputs": [
    {
     "ename": "NameError",
     "evalue": "name 'df' is not defined",
     "output_type": "error",
     "traceback": [
      "\u001b[1;31m---------------------------------------------------------------------------\u001b[0m",
      "\u001b[1;31mNameError\u001b[0m                                 Traceback (most recent call last)",
      "\u001b[1;32m<ipython-input-3-00cf07b74dcd>\u001b[0m in \u001b[0;36m<module>\u001b[1;34m\u001b[0m\n\u001b[1;32m----> 1\u001b[1;33m \u001b[0mdf\u001b[0m\u001b[1;33m\u001b[0m\u001b[1;33m\u001b[0m\u001b[0m\n\u001b[0m",
      "\u001b[1;31mNameError\u001b[0m: name 'df' is not defined"
     ]
    }
   ],
   "source": [
    "df"
   ]
  },
  {
   "cell_type": "code",
   "execution_count": 5,
   "metadata": {},
   "outputs": [
    {
     "data": {
      "text/html": [
       "<div>\n",
       "<style scoped>\n",
       "    .dataframe tbody tr th:only-of-type {\n",
       "        vertical-align: middle;\n",
       "    }\n",
       "\n",
       "    .dataframe tbody tr th {\n",
       "        vertical-align: top;\n",
       "    }\n",
       "\n",
       "    .dataframe thead th {\n",
       "        text-align: right;\n",
       "    }\n",
       "</style>\n",
       "<table border=\"1\" class=\"dataframe\">\n",
       "  <thead>\n",
       "    <tr style=\"text-align: right;\">\n",
       "      <th></th>\n",
       "      <th>Unnamed: 0</th>\n",
       "      <th>City / Urban area</th>\n",
       "      <th>Country</th>\n",
       "      <th>Population</th>\n",
       "      <th>Land area (in sqKm)</th>\n",
       "    </tr>\n",
       "  </thead>\n",
       "  <tbody>\n",
       "    <tr>\n",
       "      <th>0</th>\n",
       "      <td>0</td>\n",
       "      <td>Buenos Aires</td>\n",
       "      <td>Argentina</td>\n",
       "      <td>11200000</td>\n",
       "      <td>2266</td>\n",
       "    </tr>\n",
       "    <tr>\n",
       "      <th>1</th>\n",
       "      <td>1</td>\n",
       "      <td>Melbourne</td>\n",
       "      <td>Australia</td>\n",
       "      <td>3162000</td>\n",
       "      <td>2080</td>\n",
       "    </tr>\n",
       "    <tr>\n",
       "      <th>2</th>\n",
       "      <td>2</td>\n",
       "      <td>Sydney</td>\n",
       "      <td>Australia</td>\n",
       "      <td>3502000</td>\n",
       "      <td>1687</td>\n",
       "    </tr>\n",
       "    <tr>\n",
       "      <th>3</th>\n",
       "      <td>3</td>\n",
       "      <td>Brisbane</td>\n",
       "      <td>Australia</td>\n",
       "      <td>1508000</td>\n",
       "      <td>1603</td>\n",
       "    </tr>\n",
       "    <tr>\n",
       "      <th>4</th>\n",
       "      <td>4</td>\n",
       "      <td>Perth</td>\n",
       "      <td>Australia</td>\n",
       "      <td>1177000</td>\n",
       "      <td>964</td>\n",
       "    </tr>\n",
       "  </tbody>\n",
       "</table>\n",
       "</div>"
      ],
      "text/plain": [
       "   Unnamed: 0 City / Urban area    Country  Population  Land area (in sqKm)\n",
       "0           0      Buenos Aires  Argentina    11200000                 2266\n",
       "1           1         Melbourne  Australia     3162000                 2080\n",
       "2           2            Sydney  Australia     3502000                 1687\n",
       "3           3          Brisbane  Australia     1508000                 1603\n",
       "4           4             Perth  Australia     1177000                  964"
      ]
     },
     "execution_count": 5,
     "metadata": {},
     "output_type": "execute_result"
    }
   ],
   "source": [
    "df.head()"
   ]
  },
  {
   "cell_type": "code",
   "execution_count": 6,
   "metadata": {},
   "outputs": [
    {
     "data": {
      "text/html": [
       "<div>\n",
       "<style scoped>\n",
       "    .dataframe tbody tr th:only-of-type {\n",
       "        vertical-align: middle;\n",
       "    }\n",
       "\n",
       "    .dataframe tbody tr th {\n",
       "        vertical-align: top;\n",
       "    }\n",
       "\n",
       "    .dataframe thead th {\n",
       "        text-align: right;\n",
       "    }\n",
       "</style>\n",
       "<table border=\"1\" class=\"dataframe\">\n",
       "  <thead>\n",
       "    <tr style=\"text-align: right;\">\n",
       "      <th></th>\n",
       "      <th>Unnamed: 0</th>\n",
       "      <th>City / Urban area</th>\n",
       "      <th>Country</th>\n",
       "      <th>Population</th>\n",
       "      <th>Land area (in sqKm)</th>\n",
       "    </tr>\n",
       "  </thead>\n",
       "  <tbody>\n",
       "    <tr>\n",
       "      <th>0</th>\n",
       "      <td>0</td>\n",
       "      <td>Buenos Aires</td>\n",
       "      <td>Argentina</td>\n",
       "      <td>11200000</td>\n",
       "      <td>2266</td>\n",
       "    </tr>\n",
       "    <tr>\n",
       "      <th>1</th>\n",
       "      <td>1</td>\n",
       "      <td>Melbourne</td>\n",
       "      <td>Australia</td>\n",
       "      <td>3162000</td>\n",
       "      <td>2080</td>\n",
       "    </tr>\n",
       "    <tr>\n",
       "      <th>2</th>\n",
       "      <td>2</td>\n",
       "      <td>Sydney</td>\n",
       "      <td>Australia</td>\n",
       "      <td>3502000</td>\n",
       "      <td>1687</td>\n",
       "    </tr>\n",
       "    <tr>\n",
       "      <th>3</th>\n",
       "      <td>3</td>\n",
       "      <td>Brisbane</td>\n",
       "      <td>Australia</td>\n",
       "      <td>1508000</td>\n",
       "      <td>1603</td>\n",
       "    </tr>\n",
       "    <tr>\n",
       "      <th>4</th>\n",
       "      <td>4</td>\n",
       "      <td>Perth</td>\n",
       "      <td>Australia</td>\n",
       "      <td>1177000</td>\n",
       "      <td>964</td>\n",
       "    </tr>\n",
       "    <tr>\n",
       "      <th>...</th>\n",
       "      <td>...</td>\n",
       "      <td>...</td>\n",
       "      <td>...</td>\n",
       "      <td>...</td>\n",
       "      <td>...</td>\n",
       "    </tr>\n",
       "    <tr>\n",
       "      <th>244</th>\n",
       "      <td>245</td>\n",
       "      <td>Canton</td>\n",
       "      <td>USA</td>\n",
       "      <td>267000</td>\n",
       "      <td>372</td>\n",
       "    </tr>\n",
       "    <tr>\n",
       "      <th>245</th>\n",
       "      <td>246</td>\n",
       "      <td>Spokane</td>\n",
       "      <td>USA</td>\n",
       "      <td>335000</td>\n",
       "      <td>371</td>\n",
       "    </tr>\n",
       "    <tr>\n",
       "      <th>246</th>\n",
       "      <td>247</td>\n",
       "      <td>Tashkent</td>\n",
       "      <td>Uzbekistan</td>\n",
       "      <td>2200000</td>\n",
       "      <td>531</td>\n",
       "    </tr>\n",
       "    <tr>\n",
       "      <th>247</th>\n",
       "      <td>248</td>\n",
       "      <td>Ho Chi Minh City</td>\n",
       "      <td>Vietnam</td>\n",
       "      <td>4900000</td>\n",
       "      <td>518</td>\n",
       "    </tr>\n",
       "    <tr>\n",
       "      <th>248</th>\n",
       "      <td>249</td>\n",
       "      <td>Harare</td>\n",
       "      <td>Zimbabwe</td>\n",
       "      <td>1750000</td>\n",
       "      <td>712</td>\n",
       "    </tr>\n",
       "  </tbody>\n",
       "</table>\n",
       "<p>249 rows × 5 columns</p>\n",
       "</div>"
      ],
      "text/plain": [
       "     Unnamed: 0 City / Urban area     Country  Population  Land area (in sqKm)\n",
       "0             0      Buenos Aires   Argentina    11200000                 2266\n",
       "1             1         Melbourne   Australia     3162000                 2080\n",
       "2             2            Sydney   Australia     3502000                 1687\n",
       "3             3          Brisbane   Australia     1508000                 1603\n",
       "4             4             Perth   Australia     1177000                  964\n",
       "..          ...               ...         ...         ...                  ...\n",
       "244         245            Canton         USA      267000                  372\n",
       "245         246           Spokane         USA      335000                  371\n",
       "246         247          Tashkent  Uzbekistan     2200000                  531\n",
       "247         248  Ho Chi Minh City     Vietnam     4900000                  518\n",
       "248         249            Harare    Zimbabwe     1750000                  712\n",
       "\n",
       "[249 rows x 5 columns]"
      ]
     },
     "execution_count": 6,
     "metadata": {},
     "output_type": "execute_result"
    }
   ],
   "source": [
    "df"
   ]
  },
  {
   "cell_type": "code",
   "execution_count": 7,
   "metadata": {},
   "outputs": [
    {
     "data": {
      "text/plain": [
       "(249, 5)"
      ]
     },
     "execution_count": 7,
     "metadata": {},
     "output_type": "execute_result"
    }
   ],
   "source": [
    "df.shape"
   ]
  },
  {
   "cell_type": "code",
   "execution_count": 9,
   "metadata": {},
   "outputs": [
    {
     "data": {
      "text/plain": [
       "Index(['Unnamed: 0', 'City / Urban area', 'Country', 'Population',\n",
       "       'Land area (in sqKm)'],\n",
       "      dtype='object')"
      ]
     },
     "execution_count": 9,
     "metadata": {},
     "output_type": "execute_result"
    }
   ],
   "source": [
    "df.columns"
   ]
  },
  {
   "cell_type": "code",
   "execution_count": 10,
   "metadata": {},
   "outputs": [
    {
     "name": "stdout",
     "output_type": "stream",
     "text": [
      "<class 'pandas.core.frame.DataFrame'>\n",
      "RangeIndex: 249 entries, 0 to 248\n",
      "Data columns (total 5 columns):\n",
      " #   Column               Non-Null Count  Dtype \n",
      "---  ------               --------------  ----- \n",
      " 0   Unnamed: 0           249 non-null    int64 \n",
      " 1   City / Urban area    249 non-null    object\n",
      " 2   Country              249 non-null    object\n",
      " 3   Population           249 non-null    int64 \n",
      " 4   Land area (in sqKm)  249 non-null    int64 \n",
      "dtypes: int64(3), object(2)\n",
      "memory usage: 9.9+ KB\n"
     ]
    }
   ],
   "source": [
    "df.info()"
   ]
  },
  {
   "cell_type": "code",
   "execution_count": 11,
   "metadata": {},
   "outputs": [
    {
     "data": {
      "text/html": [
       "<div>\n",
       "<style scoped>\n",
       "    .dataframe tbody tr th:only-of-type {\n",
       "        vertical-align: middle;\n",
       "    }\n",
       "\n",
       "    .dataframe tbody tr th {\n",
       "        vertical-align: top;\n",
       "    }\n",
       "\n",
       "    .dataframe thead th {\n",
       "        text-align: right;\n",
       "    }\n",
       "</style>\n",
       "<table border=\"1\" class=\"dataframe\">\n",
       "  <thead>\n",
       "    <tr style=\"text-align: right;\">\n",
       "      <th></th>\n",
       "      <th>Unnamed: 0</th>\n",
       "      <th>Population</th>\n",
       "      <th>Land area (in sqKm)</th>\n",
       "    </tr>\n",
       "  </thead>\n",
       "  <tbody>\n",
       "    <tr>\n",
       "      <th>count</th>\n",
       "      <td>249.000000</td>\n",
       "      <td>2.490000e+02</td>\n",
       "      <td>249.000000</td>\n",
       "    </tr>\n",
       "    <tr>\n",
       "      <th>mean</th>\n",
       "      <td>124.273092</td>\n",
       "      <td>3.006538e+06</td>\n",
       "      <td>1035.212851</td>\n",
       "    </tr>\n",
       "    <tr>\n",
       "      <th>std</th>\n",
       "      <td>72.369388</td>\n",
       "      <td>4.136435e+06</td>\n",
       "      <td>1033.487331</td>\n",
       "    </tr>\n",
       "    <tr>\n",
       "      <th>min</th>\n",
       "      <td>0.000000</td>\n",
       "      <td>1.810000e+05</td>\n",
       "      <td>365.000000</td>\n",
       "    </tr>\n",
       "    <tr>\n",
       "      <th>25%</th>\n",
       "      <td>62.000000</td>\n",
       "      <td>5.980000e+05</td>\n",
       "      <td>511.000000</td>\n",
       "    </tr>\n",
       "    <tr>\n",
       "      <th>50%</th>\n",
       "      <td>124.000000</td>\n",
       "      <td>1.500000e+06</td>\n",
       "      <td>684.000000</td>\n",
       "    </tr>\n",
       "    <tr>\n",
       "      <th>75%</th>\n",
       "      <td>187.000000</td>\n",
       "      <td>3.502000e+06</td>\n",
       "      <td>1116.000000</td>\n",
       "    </tr>\n",
       "    <tr>\n",
       "      <th>max</th>\n",
       "      <td>249.000000</td>\n",
       "      <td>3.320000e+07</td>\n",
       "      <td>8683.000000</td>\n",
       "    </tr>\n",
       "  </tbody>\n",
       "</table>\n",
       "</div>"
      ],
      "text/plain": [
       "       Unnamed: 0    Population  Land area (in sqKm)\n",
       "count  249.000000  2.490000e+02           249.000000\n",
       "mean   124.273092  3.006538e+06          1035.212851\n",
       "std     72.369388  4.136435e+06          1033.487331\n",
       "min      0.000000  1.810000e+05           365.000000\n",
       "25%     62.000000  5.980000e+05           511.000000\n",
       "50%    124.000000  1.500000e+06           684.000000\n",
       "75%    187.000000  3.502000e+06          1116.000000\n",
       "max    249.000000  3.320000e+07          8683.000000"
      ]
     },
     "execution_count": 11,
     "metadata": {},
     "output_type": "execute_result"
    }
   ],
   "source": [
    "df.describe()"
   ]
  },
  {
   "cell_type": "code",
   "execution_count": 13,
   "metadata": {},
   "outputs": [
    {
     "data": {
      "text/html": [
       "<div>\n",
       "<style scoped>\n",
       "    .dataframe tbody tr th:only-of-type {\n",
       "        vertical-align: middle;\n",
       "    }\n",
       "\n",
       "    .dataframe tbody tr th {\n",
       "        vertical-align: top;\n",
       "    }\n",
       "\n",
       "    .dataframe thead th {\n",
       "        text-align: right;\n",
       "    }\n",
       "</style>\n",
       "<table border=\"1\" class=\"dataframe\">\n",
       "  <thead>\n",
       "    <tr style=\"text-align: right;\">\n",
       "      <th></th>\n",
       "      <th>Unnamed: 0</th>\n",
       "      <th>City / Urban area</th>\n",
       "      <th>Country</th>\n",
       "      <th>Population</th>\n",
       "      <th>Land area (in sqKm)</th>\n",
       "    </tr>\n",
       "  </thead>\n",
       "  <tbody>\n",
       "    <tr>\n",
       "      <th>57</th>\n",
       "      <td>57</td>\n",
       "      <td>Pau</td>\n",
       "      <td>France</td>\n",
       "      <td>181000</td>\n",
       "      <td>450</td>\n",
       "    </tr>\n",
       "    <tr>\n",
       "      <th>220</th>\n",
       "      <td>221</td>\n",
       "      <td>Hickory</td>\n",
       "      <td>USA</td>\n",
       "      <td>188000</td>\n",
       "      <td>546</td>\n",
       "    </tr>\n",
       "    <tr>\n",
       "      <th>238</th>\n",
       "      <td>239</td>\n",
       "      <td>Huntsville</td>\n",
       "      <td>USA</td>\n",
       "      <td>213000</td>\n",
       "      <td>407</td>\n",
       "    </tr>\n",
       "    <tr>\n",
       "      <th>243</th>\n",
       "      <td>244</td>\n",
       "      <td>Bonita Springs / Naples</td>\n",
       "      <td>USA</td>\n",
       "      <td>221000</td>\n",
       "      <td>389</td>\n",
       "    </tr>\n",
       "    <tr>\n",
       "      <th>223</th>\n",
       "      <td>224</td>\n",
       "      <td>Asheville</td>\n",
       "      <td>USA</td>\n",
       "      <td>222000</td>\n",
       "      <td>536</td>\n",
       "    </tr>\n",
       "    <tr>\n",
       "      <th>...</th>\n",
       "      <td>...</td>\n",
       "      <td>...</td>\n",
       "      <td>...</td>\n",
       "      <td>...</td>\n",
       "      <td>...</td>\n",
       "    </tr>\n",
       "    <tr>\n",
       "      <th>94</th>\n",
       "      <td>94</td>\n",
       "      <td>Mexico City</td>\n",
       "      <td>Mexico</td>\n",
       "      <td>17400000</td>\n",
       "      <td>2072</td>\n",
       "    </tr>\n",
       "    <tr>\n",
       "      <th>123</th>\n",
       "      <td>123</td>\n",
       "      <td>Seoul/Incheon</td>\n",
       "      <td>South Korea</td>\n",
       "      <td>17500000</td>\n",
       "      <td>1049</td>\n",
       "    </tr>\n",
       "    <tr>\n",
       "      <th>11</th>\n",
       "      <td>11</td>\n",
       "      <td>Sao Paulo</td>\n",
       "      <td>Brazil</td>\n",
       "      <td>17700000</td>\n",
       "      <td>1968</td>\n",
       "    </tr>\n",
       "    <tr>\n",
       "      <th>141</th>\n",
       "      <td>141</td>\n",
       "      <td>New York Metro</td>\n",
       "      <td>USA</td>\n",
       "      <td>17800000</td>\n",
       "      <td>8683</td>\n",
       "    </tr>\n",
       "    <tr>\n",
       "      <th>86</th>\n",
       "      <td>86</td>\n",
       "      <td>Tokyo/Yokohama</td>\n",
       "      <td>Japan</td>\n",
       "      <td>33200000</td>\n",
       "      <td>6993</td>\n",
       "    </tr>\n",
       "  </tbody>\n",
       "</table>\n",
       "<p>249 rows × 5 columns</p>\n",
       "</div>"
      ],
      "text/plain": [
       "     Unnamed: 0        City / Urban area      Country  Population  \\\n",
       "57           57                      Pau       France      181000   \n",
       "220         221                  Hickory          USA      188000   \n",
       "238         239               Huntsville          USA      213000   \n",
       "243         244  Bonita Springs / Naples          USA      221000   \n",
       "223         224                Asheville          USA      222000   \n",
       "..          ...                      ...          ...         ...   \n",
       "94           94              Mexico City       Mexico    17400000   \n",
       "123         123            Seoul/Incheon  South Korea    17500000   \n",
       "11           11                Sao Paulo       Brazil    17700000   \n",
       "141         141           New York Metro          USA    17800000   \n",
       "86           86           Tokyo/Yokohama        Japan    33200000   \n",
       "\n",
       "     Land area (in sqKm)  \n",
       "57                   450  \n",
       "220                  546  \n",
       "238                  407  \n",
       "243                  389  \n",
       "223                  536  \n",
       "..                   ...  \n",
       "94                  2072  \n",
       "123                 1049  \n",
       "11                  1968  \n",
       "141                 8683  \n",
       "86                  6993  \n",
       "\n",
       "[249 rows x 5 columns]"
      ]
     },
     "execution_count": 13,
     "metadata": {},
     "output_type": "execute_result"
    }
   ],
   "source": [
    "df.sort_values(by='Population')"
   ]
  },
  {
   "cell_type": "code",
   "execution_count": 18,
   "metadata": {},
   "outputs": [
    {
     "data": {
      "text/plain": [
       "count     249\n",
       "unique     61\n",
       "top       USA\n",
       "freq      105\n",
       "Name: Country, dtype: object"
      ]
     },
     "execution_count": 18,
     "metadata": {},
     "output_type": "execute_result"
    }
   ],
   "source": [
    "df['Country'].describe()"
   ]
  },
  {
   "cell_type": "code",
   "execution_count": 16,
   "metadata": {},
   "outputs": [
    {
     "data": {
      "text/plain": [
       "pandas.core.series.Series"
      ]
     },
     "execution_count": 16,
     "metadata": {},
     "output_type": "execute_result"
    }
   ],
   "source": [
    "type(df['Population'])"
   ]
  },
  {
   "cell_type": "code",
   "execution_count": 19,
   "metadata": {},
   "outputs": [
    {
     "name": "stdout",
     "output_type": "stream",
     "text": [
      "<class 'pandas.core.frame.DataFrame'>\n",
      "RangeIndex: 249 entries, 0 to 248\n",
      "Data columns (total 5 columns):\n",
      " #   Column               Non-Null Count  Dtype \n",
      "---  ------               --------------  ----- \n",
      " 0   Unnamed: 0           249 non-null    int64 \n",
      " 1   City / Urban area    249 non-null    object\n",
      " 2   Country              249 non-null    object\n",
      " 3   Population           249 non-null    int64 \n",
      " 4   Land area (in sqKm)  249 non-null    int64 \n",
      "dtypes: int64(3), object(2)\n",
      "memory usage: 9.9+ KB\n"
     ]
    }
   ],
   "source": [
    "df.info()"
   ]
  },
  {
   "cell_type": "code",
   "execution_count": 22,
   "metadata": {},
   "outputs": [
    {
     "data": {
      "text/plain": [
       "Index(['Unnamed: 0', 'City / Urban area', 'Country', 'Population',\n",
       "       'Land area (in sqKm)'],\n",
       "      dtype='object')"
      ]
     },
     "execution_count": 22,
     "metadata": {},
     "output_type": "execute_result"
    }
   ],
   "source": [
    "df.columns"
   ]
  },
  {
   "cell_type": "code",
   "execution_count": 23,
   "metadata": {},
   "outputs": [
    {
     "data": {
      "text/plain": [
       "array([11200000,  3162000,  3502000,  1508000,  1177000,  1002000,\n",
       "         422000,  1550000,  2100000,  1570000,   915000, 17700000,\n",
       "       10800000,  4000000,  2500000,  1625000,  2650000,  2800000,\n",
       "        1750000,  1475000,  3025000,  1500000,  3216000,  4367000,\n",
       "        1830000,   782000,   879000,   635000,   828000,   627000,\n",
       "         300000,  5425000,  8614000, 10000000,  8000000,  4200000,\n",
       "        4750000,  2750000,  7000000,  5000000,  1200000,  1525000,\n",
       "       12200000,  1000000,  9645000,  1350000,   754000,  1349000,\n",
       "         761000,   889000,   520000,   254000,   357000,   519000,\n",
       "         545000,  1050000,   181000,   298000,   259000,  7350000,\n",
       "        3675000,  2260000,  1925000,  1960000,  1600000,  1250000,\n",
       "         585000,  3685000,  1800000, 14300000,  5300000,  5400000,\n",
       "       12700000, 14350000,  5950000, 14250000,  7250000,  5500000,\n",
       "        1075000,  2300000,  4250000,  2400000, 33200000,  9000000,\n",
       "       16425000,  2150000,  2075000,  4400000, 17400000,  3500000,\n",
       "        3200000,  1325000, 13400000,  5100000,  9800000, 14750000,\n",
       "        2200000,  2000000,  2250000,  1035000,  2217000,   299000,\n",
       "       10500000,  6000000,  2900000,  2700000,  1850000,   600000,\n",
       "         900000, 17500000,  4900000,  3900000,  1400000,  5700000,\n",
       "        6500000,  3100000,   550000,  1900000,  8278000,  2284000,\n",
       "        2245000,  1499000, 17800000,  8308000,  5149000,  4032000,\n",
       "       11789000,  4146000,  3823000,  3903000,  3934000,  4919000,\n",
       "        2712000,  2389000,  1753000,  2078000,  2062000,  2907000,\n",
       "        2674000,  2076000,  1503000,  1787000,  1362000,  1219000,\n",
       "        3229000,  1394000,  1175000,  1985000,  1309000,  1583000,\n",
       "         852000,  1157000,  1507000,   819000,   759000,   750000,\n",
       "         882000,  1328000,   972000,  1133000,   864000,  1393000,\n",
       "         977000,   420000,   703000,   747000,   542000,   902000,\n",
       "         523000,   574000,   570000,   694000,   720000,   344000,\n",
       "         576000,   244000,  1314000,   531000,   559000,   479000,\n",
       "         421000,   352000,   558000,  1538000,   539000,   430000,\n",
       "         336000,   365000,   423000,   888000,   417000,   302000,\n",
       "         598000,   393000,   675000,   324000,   188000,   318000,\n",
       "         363000,   222000,   360000,   503000,  1009000,   466000,\n",
       "         330000,   418000,   402000,   553000,   271000,   276000,\n",
       "         293000,   385000,   213000,   288000,   275000,   718000,\n",
       "         221000,   267000,   335000], dtype=int64)"
      ]
     },
     "execution_count": 23,
     "metadata": {},
     "output_type": "execute_result"
    }
   ],
   "source": [
    "df['Population'].unique()"
   ]
  },
  {
   "cell_type": "code",
   "execution_count": null,
   "metadata": {},
   "outputs": [],
   "source": []
  }
 ],
 "metadata": {
  "kernelspec": {
   "display_name": "Python 3",
   "language": "python",
   "name": "python3"
  },
  "language_info": {
   "codemirror_mode": {
    "name": "ipython",
    "version": 3
   },
   "file_extension": ".py",
   "mimetype": "text/x-python",
   "name": "python",
   "nbconvert_exporter": "python",
   "pygments_lexer": "ipython3",
   "version": "3.8.3"
  }
 },
 "nbformat": 4,
 "nbformat_minor": 4
}
