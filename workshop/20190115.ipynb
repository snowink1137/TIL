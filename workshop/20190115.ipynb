{
 "cells": [
  {
   "cell_type": "markdown",
   "metadata": {},
   "source": [
    "# 20190115 workshop"
   ]
  },
  {
   "cell_type": "markdown",
   "metadata": {},
   "source": [
    "## nth-child()와 nth-of-type() 이해하기"
   ]
  },
  {
   "cell_type": "markdown",
   "metadata": {},
   "source": [
    "```html\n",
    "#ssafy > p:nth-child(2) {\n",
    "            color: red;\n",
    "        }\n",
    "#ssafy > p:nth-of-type(2) {\n",
    "            color: red;\n",
    "        }\n",
    "```"
   ]
  },
  {
   "cell_type": "markdown",
   "metadata": {},
   "source": [
    "## \"태그\":nth-child(2)\n",
    "해당 태그가 속한 **모든 자식들 중** 2번째 자식을 선택함\n",
    "\n",
    "## \"태그\":nth-of-type(2)\n",
    "해당 태그가 속한 자식 중 **해당 태그를 가진 자식들 중** 2번째 자식을 선택함"
   ]
  }
 ],
 "metadata": {
  "kernelspec": {
   "display_name": "Python 3",
   "language": "python",
   "name": "python3"
  },
  "language_info": {
   "codemirror_mode": {
    "name": "ipython",
    "version": 3
   },
   "file_extension": ".py",
   "mimetype": "text/x-python",
   "name": "python",
   "nbconvert_exporter": "python",
   "pygments_lexer": "ipython3",
   "version": "3.7.0"
  }
 },
 "nbformat": 4,
 "nbformat_minor": 2
}
