{
 "cells": [
  {
   "cell_type": "code",
   "execution_count": 19,
   "metadata": {},
   "outputs": [
    {
     "name": "stdout",
     "output_type": "stream",
     "text": [
      "루트 2의 소수점 5자리 근사값 1.41421을 20번의 이분법으로 찾아냈습니다\n"
     ]
    }
   ],
   "source": [
    "def bisection(rootnum):\n",
    "    n = 1\n",
    "    while True:\n",
    "        if n ** 2 < rootnum < (n+1) ** 2:           \n",
    "            low = n\n",
    "            high = n + 1\n",
    "            break\n",
    "            \n",
    "        else:\n",
    "            n += 1\n",
    "    \n",
    "    \n",
    "    count = 0\n",
    "    while True:\n",
    "        mid = (low + high) / 2\n",
    "        count += 1\n",
    "        if rootnum > mid ** 2:\n",
    "            low = mid\n",
    "            if round(low, 5) == round(high, 5):\n",
    "                return round(low, 5), count, rootnum\n",
    "        else:\n",
    "            high = mid\n",
    "            if round(low, 5) == round(high, 5):\n",
    "                return round(low, 5), count, rootnum\n",
    "            \n",
    "            \n",
    "appro, cnt, root = bisection(2)\n",
    "print(f'루트 {root}의 소수점 5자리 근사값 {appro}을 {cnt}번의 이분법으로 찾아냈습니다')\n",
    "                "
   ]
  }
 ],
 "metadata": {
  "kernelspec": {
   "display_name": "Python 3",
   "language": "python",
   "name": "python3"
  },
  "language_info": {
   "codemirror_mode": {
    "name": "ipython",
    "version": 3
   },
   "file_extension": ".py",
   "mimetype": "text/x-python",
   "name": "python",
   "nbconvert_exporter": "python",
   "pygments_lexer": "ipython3",
   "version": "3.6.7"
  }
 },
 "nbformat": 4,
 "nbformat_minor": 2
}
