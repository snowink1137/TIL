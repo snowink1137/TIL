{
 "cells": [
  {
   "cell_type": "markdown",
   "metadata": {},
   "source": [
    "# 20190108 workshop "
   ]
  },
  {
   "cell_type": "code",
   "execution_count": 30,
   "metadata": {},
   "outputs": [
    {
     "name": "stdout",
     "output_type": "stream",
     "text": [
      "True\n",
      "True\n",
      "False\n",
      "True\n",
      "False\n",
      "True\n",
      "True\n",
      "True\n",
      "False\n",
      "True\n"
     ]
    }
   ],
   "source": [
    "def palindrome(word):\n",
    "    length = len(word)\n",
    "    last = int(length/2)\n",
    "    for i in range(last):\n",
    "        if word[i] != word[length-1-i]:\n",
    "            return False\n",
    "        else:\n",
    "            continue\n",
    "    else:\n",
    "        return True\n",
    "    \n",
    "    \n",
    "def palindrome_ignore_case(word):\n",
    "    word = str(word)\n",
    "    word = word.replace(' ', '')\n",
    "    word = word.lower()\n",
    "    length = len(word)\n",
    "    last = int(length/2)\n",
    "    for i in range(last):\n",
    "        if word[i] != word[length-1-i]:\n",
    "            return False\n",
    "        else:\n",
    "            continue\n",
    "    else:\n",
    "        return True\n",
    "            \n",
    "        \n",
    "print(palindrome('aabaa'))\n",
    "print(palindrome('nan'))\n",
    "print(palindrome('aab'))\n",
    "print(palindrome('토마토'))\n",
    "print(palindrome('naN'))\n",
    "\n",
    "print(palindrome_ignore_case('naN'))\n",
    "print(palindrome_ignore_case('naN        '))\n",
    "print(palindrome_ignore_case('na     N'))\n",
    "print(palindrome_ignore_case(13413513))\n",
    "print(palindrome_ignore_case('123  m  to ot    m  321'))"
   ]
  }
 ],
 "metadata": {
  "kernelspec": {
   "display_name": "Python 3",
   "language": "python",
   "name": "python3"
  },
  "language_info": {
   "codemirror_mode": {
    "name": "ipython",
    "version": 3
   },
   "file_extension": ".py",
   "mimetype": "text/x-python",
   "name": "python",
   "nbconvert_exporter": "python",
   "pygments_lexer": "ipython3",
   "version": "3.6.7"
  }
 },
 "nbformat": 4,
 "nbformat_minor": 2
}
