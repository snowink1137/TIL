{
 "cells": [
  {
   "cell_type": "code",
   "execution_count": 8,
   "metadata": {},
   "outputs": [],
   "source": [
    "last_name = 'jang '\n",
    "first_name = 'jae young'"
   ]
  },
  {
   "cell_type": "code",
   "execution_count": 9,
   "metadata": {},
   "outputs": [
    {
     "data": {
      "text/plain": [
       "'jang jae young'"
      ]
     },
     "execution_count": 9,
     "metadata": {},
     "output_type": "execute_result"
    }
   ],
   "source": [
    "last_name + first_name"
   ]
  },
  {
   "cell_type": "code",
   "execution_count": 10,
   "metadata": {},
   "outputs": [
    {
     "data": {
      "text/plain": [
       "1024"
      ]
     },
     "execution_count": 10,
     "metadata": {},
     "output_type": "execute_result"
    }
   ],
   "source": [
    "2 ** 10"
   ]
  },
  {
   "cell_type": "code",
   "execution_count": 1,
   "metadata": {
    "scrolled": true
   },
   "outputs": [
    {
     "ename": "NameError",
     "evalue": "name 'last_name' is not defined",
     "output_type": "error",
     "traceback": [
      "\u001b[1;31m---------------------------------------------------------------------------\u001b[0m",
      "\u001b[1;31mNameError\u001b[0m                                 Traceback (most recent call last)",
      "\u001b[1;32m<ipython-input-1-9cbd98c15f3a>\u001b[0m in \u001b[0;36m<module>\u001b[1;34m\u001b[0m\n\u001b[1;32m----> 1\u001b[1;33m \u001b[0mfull_name\u001b[0m \u001b[1;33m=\u001b[0m \u001b[0mlast_name\u001b[0m \u001b[1;33m+\u001b[0m \u001b[0mfirst_name\u001b[0m\u001b[1;33m\u001b[0m\u001b[1;33m\u001b[0m\u001b[0m\n\u001b[0m\u001b[0;32m      2\u001b[0m \u001b[0mfull_name\u001b[0m\u001b[1;33m\u001b[0m\u001b[1;33m\u001b[0m\u001b[0m\n",
      "\u001b[1;31mNameError\u001b[0m: name 'last_name' is not defined"
     ]
    }
   ],
   "source": [
    "full_name = last_name + first_name\n",
    "full_name"
   ]
  },
  {
   "cell_type": "code",
   "execution_count": 34,
   "metadata": {},
   "outputs": [
    {
     "name": "stdout",
     "output_type": "stream",
     "text": [
      "14\n",
      "42.0\n"
     ]
    }
   ],
   "source": [
    "num1 = 42\n",
    "num2 = 14\n",
    "\n",
    "# 최대공약수(gcd), 최소공배수(lcm) 구하기\n",
    "def gcd(num1, num2):\n",
    "    if num1 < num2:\n",
    "        temp = num1\n",
    "        num1 = num2\n",
    "        num2 = temp\n",
    "    \n",
    "    \n",
    "    while num2 != 0:\n",
    "        remainder = num1 % num2\n",
    "        num1 = num2\n",
    "        num2 = remainder\n",
    "\n",
    "        \n",
    "    return num1\n",
    "\n",
    "\n",
    "def lcm(num1, num2):\n",
    "    multi = num1 * num2\n",
    "    gcd_temp = gcd(num1, num2)\n",
    "    lcm = multi / gcd_temp\n",
    "    \n",
    "    return lcm\n",
    "    \n",
    "\n",
    "gcd_answer = gcd(num1, num2)\n",
    "lcm_answer = lcm(num1, num2)\n",
    "\n",
    "print(gcd_answer)\n",
    "print(lcm_answer)"
   ]
  },
  {
   "cell_type": "code",
   "execution_count": null,
   "metadata": {},
   "outputs": [],
   "source": []
  }
 ],
 "metadata": {
  "kernelspec": {
   "display_name": "Python 3",
   "language": "python",
   "name": "python3"
  },
  "language_info": {
   "codemirror_mode": {
    "name": "ipython",
    "version": 3
   },
   "file_extension": ".py",
   "mimetype": "text/x-python",
   "name": "python",
   "nbconvert_exporter": "python",
   "pygments_lexer": "ipython3",
   "version": "3.6.7"
  }
 },
 "nbformat": 4,
 "nbformat_minor": 2
}
