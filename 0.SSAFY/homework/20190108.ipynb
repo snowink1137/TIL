{
 "cells": [
  {
   "cell_type": "markdown",
   "metadata": {},
   "source": [
    "# 20190108 homework"
   ]
  },
  {
   "cell_type": "markdown",
   "metadata": {},
   "source": [
    "## 1번 문제"
   ]
  },
  {
   "cell_type": "code",
   "execution_count": 1,
   "metadata": {},
   "outputs": [
    {
     "name": "stdout",
     "output_type": "stream",
     "text": [
      "1 2 3 4 4 4 6 456 46 46 46 464 4 "
     ]
    }
   ],
   "source": [
    "my_list = [1,2,3,4,4,4,6,456,46,46,46,464,4]\n",
    "for i in my_list:\n",
    "    print(f'{i}', end=' ')"
   ]
  },
  {
   "cell_type": "markdown",
   "metadata": {},
   "source": [
    "## 2번 문제"
   ]
  },
  {
   "cell_type": "code",
   "execution_count": 4,
   "metadata": {},
   "outputs": [
    {
     "name": "stdout",
     "output_type": "stream",
     "text": [
      " index: 0 value: 1\n",
      " index: 1 value: 2\n",
      " index: 2 value: 3\n",
      " index: 3 value: 4\n",
      " index: 4 value: 4\n",
      " index: 5 value: 4\n",
      " index: 6 value: 6\n",
      " index: 7 value: 456\n",
      " index: 8 value: 46\n",
      " index: 9 value: 46\n",
      " index: 10 value: 46\n",
      " index: 11 value: 464\n",
      " index: 12 value: 4\n"
     ]
    }
   ],
   "source": [
    "my_list = [1,2,3,4,4,4,6,456,46,46,46,464,4]\n",
    "for k, i in enumerate(my_list):\n",
    "    print(f' index: {k} value: {i}')"
   ]
  },
  {
   "cell_type": "markdown",
   "metadata": {},
   "source": [
    "## 3번 문제"
   ]
  },
  {
   "cell_type": "markdown",
   "metadata": {},
   "source": [
    "my_dict.keys()\n",
    "\n",
    "my_dict.values()\n",
    "\n",
    "my_dict.items()"
   ]
  },
  {
   "cell_type": "markdown",
   "metadata": {},
   "source": [
    "## 4번 문제"
   ]
  },
  {
   "cell_type": "code",
   "execution_count": 6,
   "metadata": {},
   "outputs": [
    {
     "name": "stdout",
     "output_type": "stream",
     "text": [
      "6\n",
      "None\n"
     ]
    }
   ],
   "source": [
    "def my_func(a, b):\n",
    "    c = a + b\n",
    "    print(c)\n",
    "    \n",
    "    \n",
    "result = my_func(1, 5)\n",
    "print(result)"
   ]
  },
  {
   "cell_type": "markdown",
   "metadata": {},
   "source": [
    "따라서 답은 없다이다.(None)"
   ]
  }
 ],
 "metadata": {
  "kernelspec": {
   "display_name": "Python 3",
   "language": "python",
   "name": "python3"
  },
  "language_info": {
   "codemirror_mode": {
    "name": "ipython",
    "version": 3
   },
   "file_extension": ".py",
   "mimetype": "text/x-python",
   "name": "python",
   "nbconvert_exporter": "python",
   "pygments_lexer": "ipython3",
   "version": "3.6.7"
  }
 },
 "nbformat": 4,
 "nbformat_minor": 2
}
