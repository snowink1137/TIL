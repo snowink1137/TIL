{
 "cells": [
  {
   "cell_type": "markdown",
   "metadata": {},
   "source": [
    "# ONE TO MANY2\n",
    "\n",
    "### One To Many model\n",
    "\n",
    "#### Writer\n",
    "\n",
    "| id (PK) | name      |\n",
    "| ------- | --------- |\n",
    "| INT     | CharField |\n",
    "\n",
    "#### Book\n",
    "\n",
    "| id (PK) | author_id (FK - Writer) | title     | description |\n",
    "| ------- | ----------------------- | --------- | ----------- |\n",
    "| INT     | INT                     | Charfield | TextField   |\n",
    "\n",
    "#### Chapter\n",
    "\n",
    "| id (PK) | book_id (FK - Book) | title     | description |\n",
    "| ------- | ------------------- | --------- | ----------- |\n",
    "| INT     | INT                 | CharField | TextField   |"
   ]
  },
  {
   "cell_type": "code",
   "execution_count": 2,
   "metadata": {},
   "outputs": [
    {
     "data": {
      "text/plain": [
       "<Writer: Writer object (2)>"
      ]
     },
     "execution_count": 2,
     "metadata": {},
     "output_type": "execute_result"
    }
   ],
   "source": [
    "# Writer 객체 생성\n",
    "Writer.objects.create(name='이선 브라운')"
   ]
  },
  {
   "cell_type": "code",
   "execution_count": 4,
   "metadata": {},
   "outputs": [
    {
     "data": {
      "text/plain": [
       "<Book: Book object (3)>"
      ]
     },
     "execution_count": 4,
     "metadata": {},
     "output_type": "execute_result"
    }
   ],
   "source": [
    "# Book 객체 생성\n",
    "Book.objects.create(\n",
    "    author=Writer.objects.get(name='이선 브라운'),\n",
    "    title='러닝 자바스크립트',\n",
    "    description='ES6로 제대로 입문하는 모던 자바스크립트 웹 개발',\n",
    ")"
   ]
  },
  {
   "cell_type": "code",
   "execution_count": 5,
   "metadata": {},
   "outputs": [
    {
     "data": {
      "text/plain": [
       "<Book: Book object (4)>"
      ]
     },
     "execution_count": 5,
     "metadata": {},
     "output_type": "execute_result"
    }
   ],
   "source": [
    "# Book 객체 생성\n",
    "Book.objects.create(\n",
    "    author=Writer.objects.get(name='이선 브라운'),\n",
    "    title='러닝 파이썬',\n",
    "    description='파이썬37로 제대로 입문하는 파이썬 개발',\n",
    ")"
   ]
  },
  {
   "cell_type": "code",
   "execution_count": 6,
   "metadata": {},
   "outputs": [
    {
     "data": {
      "text/plain": [
       "<Chapter: Chapter object (3)>"
      ]
     },
     "execution_count": 6,
     "metadata": {},
     "output_type": "execute_result"
    }
   ],
   "source": [
    "# Chapter 객체 생성\n",
    "Chapter.objects.create(\n",
    "    book=Book.objects.get(id=3),\n",
    "    title='First App',\n",
    "    description='시작은 브라우저에서'\n",
    ")\n",
    "\n",
    "Chapter.objects.create(\n",
    "    book=Book.objects.get(id=4),\n",
    "    title='Python 기초 문법',\n",
    "    description='변수, 문자열, 숫자, 참/거짓'\n",
    ")\n",
    "\n",
    "Chapter.objects.create(\n",
    "    book=Book.objects.get(id=4),\n",
    "    title='python 자료 구조',\n",
    "    description='리스트, 딕셔너리, 튜플, 세트'\n",
    ")"
   ]
  },
  {
   "cell_type": "code",
   "execution_count": 37,
   "metadata": {},
   "outputs": [
    {
     "name": "stdout",
     "output_type": "stream",
     "text": [
      "러닝 자바스크립트\n",
      "러닝 파이썬\n"
     ]
    }
   ],
   "source": [
    "# 딕셔너리라는 챕터 설명이 있는 책의 저자가 쓴 모든 책을 검색하자\n",
    "chapters = Chapter.objects.filter(description__contains='딕셔너리')\n",
    "\n",
    "authors = set()\n",
    "for chapter in chapters:\n",
    "    authors.add(Book.objects.get(id=chapters[0].book.id).author)\n",
    "    \n",
    "for author in authors:\n",
    "    for book in Book.objects.filter(author=author):\n",
    "        print(book.title)\n",
    "\n",
    "# # 선생님 코드\n",
    "# result = Chapter.objects.filter(description__contains='딕셔너리')[0].book.author.book_set.all()\n",
    "# result"
   ]
  },
  {
   "cell_type": "code",
   "execution_count": 32,
   "metadata": {},
   "outputs": [
    {
     "data": {
      "text/plain": [
       "<QuerySet [<Book: Book object (3)>, <Book: Book object (4)>]>"
      ]
     },
     "execution_count": 32,
     "metadata": {},
     "output_type": "execute_result"
    }
   ],
   "source": [
    "# 책들 중, DB에 2019년에 등록된 모든 책들 중에서 OFFSET 2, LIMIT 3\n",
    "# Book.objects.all().filter(created__year=2019) 아래 코드와 같은 뜻.\n",
    "Book.objects.filter(created__year=2019)[2:5]"
   ]
  },
  {
   "cell_type": "code",
   "execution_count": 34,
   "metadata": {},
   "outputs": [
    {
     "data": {
      "text/plain": [
       "<QuerySet [<Book: Book object (3)>, <Book: Book object (4)>]>"
      ]
     },
     "execution_count": 34,
     "metadata": {},
     "output_type": "execute_result"
    }
   ],
   "source": [
    "# 책들 중, DB에 2018년 이후에 등록된 모든 책들 중에서 OFFSET 2, LIMIT 3\n",
    "Book.objects.filter(created__year__gt=2018)[2:5]"
   ]
  }
 ],
 "metadata": {
  "kernelspec": {
   "display_name": "Django Shell-Plus",
   "language": "python",
   "name": "django_extensions"
  },
  "language_info": {
   "codemirror_mode": {
    "name": "ipython",
    "version": 3
   },
   "file_extension": ".py",
   "mimetype": "text/x-python",
   "name": "python",
   "nbconvert_exporter": "python",
   "pygments_lexer": "ipython3",
   "version": "3.7.3"
  }
 },
 "nbformat": 4,
 "nbformat_minor": 2
}
