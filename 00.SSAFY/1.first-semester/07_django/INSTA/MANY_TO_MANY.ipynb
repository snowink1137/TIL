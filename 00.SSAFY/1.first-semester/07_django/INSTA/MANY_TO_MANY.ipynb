{
 "cells": [
  {
   "cell_type": "markdown",
   "metadata": {},
   "source": [
    "### Many To Many Relation\n",
    "\n",
    "#### Student\n",
    "\n",
    "| id (PK) | name      |\n",
    "| ------- | --------- |\n",
    "| INT     | CharField |\n",
    "\n",
    "#### Enrollment\n",
    "\n",
    "| id (PK) | student_id (FK) - Student | lecture_id (FK - Lecture) |\n",
    "| ------- | ------------------------- | ------------------------- |\n",
    "| INT     | INT                       | INT                       |\n",
    "\n",
    "#### Lecture\n",
    "\n",
    "| id (PK) | title     |\n",
    "| ------- | --------- |\n",
    "| INT     | CharField |"
   ]
  },
  {
   "cell_type": "code",
   "execution_count": 14,
   "metadata": {},
   "outputs": [
    {
     "data": {
      "text/plain": [
       "<Student: 7: 김재석>"
      ]
     },
     "execution_count": 14,
     "metadata": {},
     "output_type": "execute_result"
    }
   ],
   "source": [
    "Student.objects.create(name='유태영')\n",
    "Student.objects.create(name='강동주')\n",
    "Student.objects.create(name='김탁희')\n",
    "Student.objects.create(name='김재석')"
   ]
  },
  {
   "cell_type": "code",
   "execution_count": 15,
   "metadata": {},
   "outputs": [
    {
     "data": {
      "text/plain": [
       "<Lecture: 5: 네트워크>"
      ]
     },
     "execution_count": 15,
     "metadata": {},
     "output_type": "execute_result"
    }
   ],
   "source": [
    "Lecture.objects.create(title='운영체제')\n",
    "Lecture.objects.create(title='네트워크')"
   ]
  },
  {
   "cell_type": "code",
   "execution_count": 39,
   "metadata": {},
   "outputs": [
    {
     "data": {
      "text/plain": [
       "<Lecture: 6: C언어>"
      ]
     },
     "execution_count": 39,
     "metadata": {},
     "output_type": "execute_result"
    }
   ],
   "source": [
    "Lecture.objects.create(title='C언어')"
   ]
  },
  {
   "cell_type": "code",
   "execution_count": 19,
   "metadata": {},
   "outputs": [
    {
     "data": {
      "text/plain": [
       "<Enrollment: 강동주: 운영체제>"
      ]
     },
     "execution_count": 19,
     "metadata": {},
     "output_type": "execute_result"
    }
   ],
   "source": [
    "Enrollment.objects.create(student=Student.objects.get(name='유태영'), lecture=Lecture.objects.get(title='운영체제'))\n",
    "Enrollment.objects.create(student=Student.objects.get(name='유태영'), lecture=Lecture.objects.get(title='네트워크'))\n",
    "Enrollment.objects.create(student=Student.objects.get(name='강동주'), lecture=Lecture.objects.get(title='운영체제'))"
   ]
  },
  {
   "cell_type": "code",
   "execution_count": 40,
   "metadata": {},
   "outputs": [
    {
     "data": {
      "text/plain": [
       "<Enrollment: 강동주: C언어>"
      ]
     },
     "execution_count": 40,
     "metadata": {},
     "output_type": "execute_result"
    }
   ],
   "source": [
    "Enrollment.objects.create(student=Student.objects.get(name='강동주'), lecture=Lecture.objects.get(title='C언어'))"
   ]
  },
  {
   "cell_type": "code",
   "execution_count": 22,
   "metadata": {},
   "outputs": [
    {
     "data": {
      "text/plain": [
       "<QuerySet [<Enrollment: 유태영: 운영체제>, <Enrollment: 유태영: 네트워크>, <Enrollment: 강동주: 운영체제>]>"
      ]
     },
     "execution_count": 22,
     "metadata": {},
     "output_type": "execute_result"
    }
   ],
   "source": [
    "Enrollment.objects.all()"
   ]
  },
  {
   "cell_type": "code",
   "execution_count": 29,
   "metadata": {},
   "outputs": [
    {
     "data": {
      "text/plain": [
       "<QuerySet [<Enrollment: 유태영: 운영체제>, <Enrollment: 유태영: 네트워크>]>"
      ]
     },
     "execution_count": 29,
     "metadata": {},
     "output_type": "execute_result"
    }
   ],
   "source": [
    "유태영 = Student.objects.get(name='유태영')\n",
    "수강신청1 = 유태영.enrollment_set.first()\n",
    "수강신청2 = 유태영.enrollment_set.last()\n",
    "유태영.enrollment_set.all()"
   ]
  },
  {
   "cell_type": "code",
   "execution_count": 30,
   "metadata": {},
   "outputs": [
    {
     "data": {
      "text/plain": [
       "'운영체제'"
      ]
     },
     "execution_count": 30,
     "metadata": {},
     "output_type": "execute_result"
    }
   ],
   "source": [
    "수강신청1.lecture.title"
   ]
  },
  {
   "cell_type": "code",
   "execution_count": 31,
   "metadata": {},
   "outputs": [
    {
     "data": {
      "text/plain": [
       "'네트워크'"
      ]
     },
     "execution_count": 31,
     "metadata": {},
     "output_type": "execute_result"
    }
   ],
   "source": [
    "수강신청2.lecture.title"
   ]
  },
  {
   "cell_type": "code",
   "execution_count": 41,
   "metadata": {},
   "outputs": [],
   "source": [
    "# 수업 여러개 듣는 사람 1명을 student에 저장합니다\n",
    "student = Student.objects.get(name='강동주')"
   ]
  },
  {
   "cell_type": "code",
   "execution_count": 42,
   "metadata": {},
   "outputs": [
    {
     "name": "stdout",
     "output_type": "stream",
     "text": [
      "운영체제\n",
      "C언어\n"
     ]
    }
   ],
   "source": [
    "# student 의 수업들 제목을 출력하는 for 문을 작성해 보세요\n",
    "for 수강신청 in student.enrollment_set.all():\n",
    "    print(수강신청.lecture.title)"
   ]
  },
  {
   "cell_type": "code",
   "execution_count": 43,
   "metadata": {},
   "outputs": [
    {
     "name": "stdout",
     "output_type": "stream",
     "text": [
      "운영체제\n"
     ]
    }
   ],
   "source": [
    "# student 의 수업들 중 제목이 4 글자 이상인 수업의 제목을 출력\n",
    "for 수강신청 in student.enrollment_set.all():\n",
    "    if len(수강신청.lecture.title) >= 4:\n",
    "        print(수강신청.lecture.title)"
   ]
  },
  {
   "cell_type": "code",
   "execution_count": 44,
   "metadata": {},
   "outputs": [
    {
     "data": {
      "text/plain": [
       "<QuerySet []>"
      ]
     },
     "execution_count": 44,
     "metadata": {},
     "output_type": "execute_result"
    }
   ],
   "source": [
    "Hotel.objects.all()"
   ]
  },
  {
   "cell_type": "code",
   "execution_count": 6,
   "metadata": {},
   "outputs": [],
   "source": [
    "Hotel.dummy(1)"
   ]
  },
  {
   "cell_type": "code",
   "execution_count": 7,
   "metadata": {},
   "outputs": [],
   "source": [
    "Client.dummy(1)"
   ]
  },
  {
   "cell_type": "code",
   "execution_count": 1,
   "metadata": {},
   "outputs": [
    {
     "data": {
      "text/plain": [
       "<QuerySet [<Hotel: Hotel object (1)>, <Hotel: Hotel object (2)>, <Hotel: Hotel object (3)>, <Hotel: Hotel object (4)>, <Hotel: Hotel object (5)>, <Hotel: Hotel object (6)>, <Hotel: Hotel object (7)>, <Hotel: Hotel object (8)>, <Hotel: Hotel object (9)>, <Hotel: Hotel object (10)>]>"
      ]
     },
     "execution_count": 1,
     "metadata": {},
     "output_type": "execute_result"
    }
   ],
   "source": [
    "Hotel.objects.all()"
   ]
  },
  {
   "cell_type": "code",
   "execution_count": 4,
   "metadata": {},
   "outputs": [
    {
     "data": {
      "text/plain": [
       "<QuerySet [{'id': 2, 'name': 'Amy Johnson'}, {'id': 9, 'name': 'Charles Key'}, {'id': 7, 'name': 'Christopher Cook'}, {'id': 8, 'name': 'Cynthia Robbins'}, {'id': 5, 'name': 'Dr. Curtis Hurst'}, {'id': 10, 'name': 'Melinda Davis'}, {'id': 1, 'name': 'Robert Wilson'}, {'id': 4, 'name': 'Shannon Bailey'}, {'id': 6, 'name': 'Sheila Robinson'}, {'id': 3, 'name': 'Teresa Curtis'}]>"
      ]
     },
     "execution_count": 4,
     "metadata": {},
     "output_type": "execute_result"
    }
   ],
   "source": [
    "Client.objects.all().values('id', 'name')"
   ]
  },
  {
   "cell_type": "code",
   "execution_count": 5,
   "metadata": {},
   "outputs": [
    {
     "data": {
      "text/plain": [
       "1"
      ]
     },
     "execution_count": 5,
     "metadata": {},
     "output_type": "execute_result"
    }
   ],
   "source": [
    "Client.objects.last().hotel_set.count()"
   ]
  },
  {
   "cell_type": "code",
   "execution_count": 6,
   "metadata": {},
   "outputs": [
    {
     "data": {
      "text/plain": [
       "<QuerySet [<Client: Client object (7)>, <Client: Client object (5)>, <Client: Client object (3)>]>"
      ]
     },
     "execution_count": 6,
     "metadata": {},
     "output_type": "execute_result"
    }
   ],
   "source": [
    "new_hotel = Hotel.objects.last()\n",
    "new_hotel.clients.all()"
   ]
  },
  {
   "cell_type": "code",
   "execution_count": 7,
   "metadata": {},
   "outputs": [
    {
     "data": {
      "text/plain": [
       "<QuerySet [<Client: Client object (7)>, <Client: Client object (5)>, <Client: Client object (3)>]>"
      ]
     },
     "execution_count": 7,
     "metadata": {},
     "output_type": "execute_result"
    }
   ],
   "source": [
    "new_hotel.clients.add(Client.objects.last())\n",
    "new_hotel.clients.all()"
   ]
  },
  {
   "cell_type": "code",
   "execution_count": 8,
   "metadata": {},
   "outputs": [
    {
     "data": {
      "text/plain": [
       "<QuerySet [<Client: Client object (7)>, <Client: Client object (5)>, <Client: Client object (3)>]>"
      ]
     },
     "execution_count": 8,
     "metadata": {},
     "output_type": "execute_result"
    }
   ],
   "source": [
    "new_hotel.clients.add(\n",
    "    Client.objects.get(id=3),\n",
    "    Client.objects.get(id=5),\n",
    "    Client.objects.get(id=7),\n",
    ")\n",
    "new_hotel.clients.all()"
   ]
  },
  {
   "cell_type": "code",
   "execution_count": 9,
   "metadata": {},
   "outputs": [
    {
     "data": {
      "text/plain": [
       "<QuerySet [<Client: Client object (7)>, <Client: Client object (5)>]>"
      ]
     },
     "execution_count": 9,
     "metadata": {},
     "output_type": "execute_result"
    }
   ],
   "source": [
    "new_hotel.clients.filter(name__contains='h')"
   ]
  },
  {
   "cell_type": "code",
   "execution_count": 16,
   "metadata": {},
   "outputs": [
    {
     "data": {
      "text/plain": [
       "<QuerySet [{'name': 'Wilcox Ltd'}]>"
      ]
     },
     "execution_count": 16,
     "metadata": {},
     "output_type": "execute_result"
    }
   ],
   "source": [
    "client = Client.objects.get(id=3)\n",
    "\n",
    "client.hotel_set.all().values('name')"
   ]
  },
  {
   "cell_type": "code",
   "execution_count": 3,
   "metadata": {},
   "outputs": [
    {
     "data": {
      "text/plain": [
       "<QuerySet [{'name': 'Wilcox Ltd'}]>"
      ]
     },
     "execution_count": 3,
     "metadata": {},
     "output_type": "execute_result"
    }
   ],
   "source": [
    "client = Client.objects.get(id=3)\n",
    "client.hotels.all().values('name')"
   ]
  },
  {
   "cell_type": "code",
   "execution_count": null,
   "metadata": {},
   "outputs": [],
   "source": []
  }
 ],
 "metadata": {
  "kernelspec": {
   "display_name": "Django Shell-Plus",
   "language": "python",
   "name": "django_extensions"
  },
  "language_info": {
   "codemirror_mode": {
    "name": "ipython",
    "version": 3
   },
   "file_extension": ".py",
   "mimetype": "text/x-python",
   "name": "python",
   "nbconvert_exporter": "python",
   "pygments_lexer": "ipython3",
   "version": "3.7.3"
  }
 },
 "nbformat": 4,
 "nbformat_minor": 2
}
